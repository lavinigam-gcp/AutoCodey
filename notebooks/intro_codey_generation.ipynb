{
  "cells": [
    {
      "cell_type": "code",
      "execution_count": null,
      "metadata": {
        "id": "ijGzTHJJUCPY"
      },
      "outputs": [],
      "source": [
        "# Copyright 2023 Google LLC\n",
        "#\n",
        "# Licensed under the Apache License, Version 2.0 (the \"License\");\n",
        "# you may not use this file except in compliance with the License.\n",
        "# You may obtain a copy of the License at\n",
        "#\n",
        "#     https://www.apache.org/licenses/LICENSE-2.0\n",
        "#\n",
        "# Unless required by applicable law or agreed to in writing, software\n",
        "# distributed under the License is distributed on an \"AS IS\" BASIS,\n",
        "# WITHOUT WARRANTIES OR CONDITIONS OF ANY KIND, either express or implied.\n",
        "# See the License for the specific language governing permissions and\n",
        "# limitations under the License."
      ]
    },
    {
      "cell_type": "markdown",
      "metadata": {
        "id": "VEqbX8OhE8y9"
      },
      "source": [
        "# Getting Started with the Vertex AI Codey APIs - Code Generation\n",
        "\n",
        "<table align=\"left\">\n",
        "  <td style=\"text-align: center\">\n",
        "    <a href=\"https://colab.research.google.com/github/GoogleCloudPlatform/generative-ai/blob/main/language/intro_palm_api.ipynb\">\n",
        "      <img src=\"https://cloud.google.com/ml-engine/images/colab-logo-32px.png\" alt=\"Google Colaboratory logo\"><br> Run in Colab\n",
        "    </a>\n",
        "  </td>\n",
        "  <td style=\"text-align: center\">\n",
        "    <a href=\"https://github.com/GoogleCloudPlatform/generative-ai/blob/main/language/intro_palm_api.ipynb\">\n",
        "      <img src=\"https://cloud.google.com/ml-engine/images/github-logo-32px.png\" alt=\"GitHub logo\"><br> View on GitHub\n",
        "    </a>\n",
        "  </td>\n",
        "  <td style=\"text-align: center\">\n",
        "    <a href=\"https://console.cloud.google.com/vertex-ai/workbench/deploy-notebook?download_url=https://raw.githubusercontent.com/GoogleCloudPlatform/generative-ai/blob/main/language/intro_palm_api.ipynb\">\n",
        "      <img src=\"https://lh3.googleusercontent.com/UiNooY4LUgW_oTvpsNhPpQzsstV5W8F7rYgxgGBD85cWJoLmrOzhVs_ksK_vgx40SHs7jCqkTkCk=e14-rj-sc0xffffff-h130-w32\" alt=\"Vertex AI logo\"><br> Open in Vertex AI Workbench\n",
        "    </a>\n",
        "  </td>\n",
        "</table>\n"
      ]
    },
    {
      "cell_type": "markdown",
      "metadata": {
        "id": "VK1Q5ZYdVL4Y"
      },
      "source": [
        "## Overview\n",
        "\n",
        "**[ADD YOUR OVERVIEW]**\n",
        "\n",
        "\n",
        "### Vertex AI PaLM API\n",
        "The Vertex AI PaLM API, [released on May 10, 2023](https://cloud.google.com/vertex-ai/docs/generative-ai/release-notes#may_10_2023), is powered by [PaLM 2](https://ai.google/discover/palm2).\n",
        "\n",
        "### Using Vertex AI PaLM API\n",
        "\n",
        "You can interact with the Vertex AI PaLM API using the following methods:\n",
        "\n",
        "* Use the [Generative AI Studio](https://cloud.google.com/generative-ai-studio) for quick testing and command generation.\n",
        "* Use cURL commands in Cloud Shell.\n",
        "* Use the Python SDK in a Jupyter notebook\n",
        "\n",
        "This notebook focuses on using the Python SDK to call the Vertex AI PaLM API. For more information on using Generative AI Studio without writing code, you can explore [Getting Started with the UI instructions](https://github.com/GoogleCloudPlatform/generative-ai/blob/main/language/intro_generative_ai_studio.md)\n",
        "\n",
        "\n",
        "For more information, check out the [documentation on generative AI support for Vertex AI](https://cloud.google.com/vertex-ai/docs/generative-ai/learn/overview)."
      ]
    },
    {
      "cell_type": "markdown",
      "metadata": {
        "id": "RQT500QqVPIb"
      },
      "source": [
        "### Objectives\n",
        "\n",
        "In this tutorial, you will learn\n",
        "\n",
        "**[Your description]**\n",
        "\n",
        "The steps performed include:\n",
        "\n",
        "**[Your Steps] **\n",
        "  "
      ]
    },
    {
      "cell_type": "markdown",
      "metadata": {
        "id": "1y6_3dTwV2fI"
      },
      "source": [
        "### Costs\n",
        "This tutorial uses billable components of Google Cloud:\n",
        "\n",
        "* Vertex AI Generative AI Studio\n",
        "\n",
        "Learn about [Vertex AI pricing](https://cloud.google.com/vertex-ai/pricing),\n",
        "and use the [Pricing Calculator](https://cloud.google.com/products/calculator/)\n",
        "to generate a cost estimate based on your projected usage."
      ]
    },
    {
      "cell_type": "markdown",
      "metadata": {
        "id": "QDU0XJ1xRDlL"
      },
      "source": [
        "## Getting Started"
      ]
    },
    {
      "cell_type": "markdown",
      "metadata": {
        "id": "N5afkyDMSBW5"
      },
      "source": [
        "### Install Vertex AI SDK"
      ]
    },
    {
      "cell_type": "code",
      "execution_count": null,
      "metadata": {
        "id": "kc4WxYmLSBW5",
        "tags": [],
        "colab": {
          "base_uri": "https://localhost:8080/",
          "height": 793
        },
        "outputId": "1469a866-19b7-4b30-ed4c-170aca221dbd"
      },
      "outputs": [
        {
          "output_type": "stream",
          "name": "stdout",
          "text": [
            "Collecting google-cloud-aiplatform\n",
            "  Downloading google_cloud_aiplatform-1.34.0-py2.py3-none-any.whl (3.1 MB)\n",
            "\u001b[2K     \u001b[90m━━━━━━━━━━━━━━━━━━━━━━━━━━━━━━━━━━━━━━━━\u001b[0m \u001b[32m3.1/3.1 MB\u001b[0m \u001b[31m21.5 MB/s\u001b[0m eta \u001b[36m0:00:00\u001b[0m\n",
            "\u001b[?25hRequirement already satisfied: google-api-core[grpc]!=2.0.*,!=2.1.*,!=2.2.*,!=2.3.*,!=2.4.*,!=2.5.*,!=2.6.*,!=2.7.*,<3.0.0dev,>=1.32.0 in /usr/local/lib/python3.10/dist-packages (from google-cloud-aiplatform) (2.11.1)\n",
            "Requirement already satisfied: proto-plus<2.0.0dev,>=1.22.0 in /usr/local/lib/python3.10/dist-packages (from google-cloud-aiplatform) (1.22.3)\n",
            "Requirement already satisfied: protobuf!=3.20.0,!=3.20.1,!=4.21.0,!=4.21.1,!=4.21.2,!=4.21.3,!=4.21.4,!=4.21.5,<5.0.0dev,>=3.19.5 in /usr/local/lib/python3.10/dist-packages (from google-cloud-aiplatform) (3.20.3)\n",
            "Requirement already satisfied: packaging>=14.3 in /usr/local/lib/python3.10/dist-packages (from google-cloud-aiplatform) (23.1)\n",
            "Requirement already satisfied: google-cloud-storage<3.0.0dev,>=1.32.0 in /usr/local/lib/python3.10/dist-packages (from google-cloud-aiplatform) (2.8.0)\n",
            "Requirement already satisfied: google-cloud-bigquery<4.0.0dev,>=1.15.0 in /usr/local/lib/python3.10/dist-packages (from google-cloud-aiplatform) (3.10.0)\n",
            "Collecting google-cloud-resource-manager<3.0.0dev,>=1.3.3 (from google-cloud-aiplatform)\n",
            "  Downloading google_cloud_resource_manager-1.10.4-py2.py3-none-any.whl (320 kB)\n",
            "\u001b[2K     \u001b[90m━━━━━━━━━━━━━━━━━━━━━━━━━━━━━━━━━━━━━━\u001b[0m \u001b[32m321.0/321.0 kB\u001b[0m \u001b[31m24.0 MB/s\u001b[0m eta \u001b[36m0:00:00\u001b[0m\n",
            "\u001b[?25hCollecting shapely<2.0.0 (from google-cloud-aiplatform)\n",
            "  Downloading Shapely-1.8.5.post1-cp310-cp310-manylinux_2_12_x86_64.manylinux2010_x86_64.whl (2.0 MB)\n",
            "\u001b[2K     \u001b[90m━━━━━━━━━━━━━━━━━━━━━━━━━━━━━━━━━━━━━━━━\u001b[0m \u001b[32m2.0/2.0 MB\u001b[0m \u001b[31m32.2 MB/s\u001b[0m eta \u001b[36m0:00:00\u001b[0m\n",
            "\u001b[?25hRequirement already satisfied: googleapis-common-protos<2.0.dev0,>=1.56.2 in /usr/local/lib/python3.10/dist-packages (from google-api-core[grpc]!=2.0.*,!=2.1.*,!=2.2.*,!=2.3.*,!=2.4.*,!=2.5.*,!=2.6.*,!=2.7.*,<3.0.0dev,>=1.32.0->google-cloud-aiplatform) (1.60.0)\n",
            "Requirement already satisfied: google-auth<3.0.dev0,>=2.14.1 in /usr/local/lib/python3.10/dist-packages (from google-api-core[grpc]!=2.0.*,!=2.1.*,!=2.2.*,!=2.3.*,!=2.4.*,!=2.5.*,!=2.6.*,!=2.7.*,<3.0.0dev,>=1.32.0->google-cloud-aiplatform) (2.17.3)\n",
            "Requirement already satisfied: requests<3.0.0.dev0,>=2.18.0 in /usr/local/lib/python3.10/dist-packages (from google-api-core[grpc]!=2.0.*,!=2.1.*,!=2.2.*,!=2.3.*,!=2.4.*,!=2.5.*,!=2.6.*,!=2.7.*,<3.0.0dev,>=1.32.0->google-cloud-aiplatform) (2.31.0)\n",
            "Requirement already satisfied: grpcio<2.0dev,>=1.33.2 in /usr/local/lib/python3.10/dist-packages (from google-api-core[grpc]!=2.0.*,!=2.1.*,!=2.2.*,!=2.3.*,!=2.4.*,!=2.5.*,!=2.6.*,!=2.7.*,<3.0.0dev,>=1.32.0->google-cloud-aiplatform) (1.58.0)\n",
            "Requirement already satisfied: grpcio-status<2.0.dev0,>=1.33.2 in /usr/local/lib/python3.10/dist-packages (from google-api-core[grpc]!=2.0.*,!=2.1.*,!=2.2.*,!=2.3.*,!=2.4.*,!=2.5.*,!=2.6.*,!=2.7.*,<3.0.0dev,>=1.32.0->google-cloud-aiplatform) (1.48.2)\n",
            "Requirement already satisfied: google-cloud-core<3.0.0dev,>=1.6.0 in /usr/local/lib/python3.10/dist-packages (from google-cloud-bigquery<4.0.0dev,>=1.15.0->google-cloud-aiplatform) (2.3.3)\n",
            "Requirement already satisfied: google-resumable-media<3.0dev,>=0.6.0 in /usr/local/lib/python3.10/dist-packages (from google-cloud-bigquery<4.0.0dev,>=1.15.0->google-cloud-aiplatform) (2.6.0)\n",
            "Requirement already satisfied: python-dateutil<3.0dev,>=2.7.2 in /usr/local/lib/python3.10/dist-packages (from google-cloud-bigquery<4.0.0dev,>=1.15.0->google-cloud-aiplatform) (2.8.2)\n",
            "Requirement already satisfied: grpc-google-iam-v1<1.0.0dev,>=0.12.4 in /usr/local/lib/python3.10/dist-packages (from google-cloud-resource-manager<3.0.0dev,>=1.3.3->google-cloud-aiplatform) (0.12.6)\n",
            "Requirement already satisfied: cachetools<6.0,>=2.0.0 in /usr/local/lib/python3.10/dist-packages (from google-auth<3.0.dev0,>=2.14.1->google-api-core[grpc]!=2.0.*,!=2.1.*,!=2.2.*,!=2.3.*,!=2.4.*,!=2.5.*,!=2.6.*,!=2.7.*,<3.0.0dev,>=1.32.0->google-cloud-aiplatform) (5.3.1)\n",
            "Requirement already satisfied: pyasn1-modules>=0.2.1 in /usr/local/lib/python3.10/dist-packages (from google-auth<3.0.dev0,>=2.14.1->google-api-core[grpc]!=2.0.*,!=2.1.*,!=2.2.*,!=2.3.*,!=2.4.*,!=2.5.*,!=2.6.*,!=2.7.*,<3.0.0dev,>=1.32.0->google-cloud-aiplatform) (0.3.0)\n",
            "Requirement already satisfied: six>=1.9.0 in /usr/local/lib/python3.10/dist-packages (from google-auth<3.0.dev0,>=2.14.1->google-api-core[grpc]!=2.0.*,!=2.1.*,!=2.2.*,!=2.3.*,!=2.4.*,!=2.5.*,!=2.6.*,!=2.7.*,<3.0.0dev,>=1.32.0->google-cloud-aiplatform) (1.16.0)\n",
            "Requirement already satisfied: rsa<5,>=3.1.4 in /usr/local/lib/python3.10/dist-packages (from google-auth<3.0.dev0,>=2.14.1->google-api-core[grpc]!=2.0.*,!=2.1.*,!=2.2.*,!=2.3.*,!=2.4.*,!=2.5.*,!=2.6.*,!=2.7.*,<3.0.0dev,>=1.32.0->google-cloud-aiplatform) (4.9)\n",
            "Requirement already satisfied: google-crc32c<2.0dev,>=1.0 in /usr/local/lib/python3.10/dist-packages (from google-resumable-media<3.0dev,>=0.6.0->google-cloud-bigquery<4.0.0dev,>=1.15.0->google-cloud-aiplatform) (1.5.0)\n",
            "Requirement already satisfied: charset-normalizer<4,>=2 in /usr/local/lib/python3.10/dist-packages (from requests<3.0.0.dev0,>=2.18.0->google-api-core[grpc]!=2.0.*,!=2.1.*,!=2.2.*,!=2.3.*,!=2.4.*,!=2.5.*,!=2.6.*,!=2.7.*,<3.0.0dev,>=1.32.0->google-cloud-aiplatform) (3.2.0)\n",
            "Requirement already satisfied: idna<4,>=2.5 in /usr/local/lib/python3.10/dist-packages (from requests<3.0.0.dev0,>=2.18.0->google-api-core[grpc]!=2.0.*,!=2.1.*,!=2.2.*,!=2.3.*,!=2.4.*,!=2.5.*,!=2.6.*,!=2.7.*,<3.0.0dev,>=1.32.0->google-cloud-aiplatform) (3.4)\n",
            "Requirement already satisfied: urllib3<3,>=1.21.1 in /usr/local/lib/python3.10/dist-packages (from requests<3.0.0.dev0,>=2.18.0->google-api-core[grpc]!=2.0.*,!=2.1.*,!=2.2.*,!=2.3.*,!=2.4.*,!=2.5.*,!=2.6.*,!=2.7.*,<3.0.0dev,>=1.32.0->google-cloud-aiplatform) (2.0.5)\n",
            "Requirement already satisfied: certifi>=2017.4.17 in /usr/local/lib/python3.10/dist-packages (from requests<3.0.0.dev0,>=2.18.0->google-api-core[grpc]!=2.0.*,!=2.1.*,!=2.2.*,!=2.3.*,!=2.4.*,!=2.5.*,!=2.6.*,!=2.7.*,<3.0.0dev,>=1.32.0->google-cloud-aiplatform) (2023.7.22)\n",
            "Requirement already satisfied: pyasn1<0.6.0,>=0.4.6 in /usr/local/lib/python3.10/dist-packages (from pyasn1-modules>=0.2.1->google-auth<3.0.dev0,>=2.14.1->google-api-core[grpc]!=2.0.*,!=2.1.*,!=2.2.*,!=2.3.*,!=2.4.*,!=2.5.*,!=2.6.*,!=2.7.*,<3.0.0dev,>=1.32.0->google-cloud-aiplatform) (0.5.0)\n",
            "Installing collected packages: shapely, google-cloud-resource-manager, google-cloud-aiplatform\n",
            "\u001b[33m  WARNING: The script tb-gcp-uploader is installed in '/root/.local/bin' which is not on PATH.\n",
            "  Consider adding this directory to PATH or, if you prefer to suppress this warning, use --no-warn-script-location.\u001b[0m\u001b[33m\n",
            "\u001b[0mSuccessfully installed google-cloud-aiplatform-1.34.0 google-cloud-resource-manager-1.10.4 shapely-1.8.5.post1\n"
          ]
        },
        {
          "output_type": "display_data",
          "data": {
            "application/vnd.colab-display-data+json": {
              "pip_warning": {
                "packages": [
                  "google"
                ]
              }
            }
          },
          "metadata": {}
        }
      ],
      "source": [
        "!pip install google-cloud-aiplatform --upgrade --user"
      ]
    },
    {
      "cell_type": "markdown",
      "metadata": {
        "id": "j7UyNVSiyQ96"
      },
      "source": [
        "**Colab only:** Uncomment the following cell to restart the kernel or use the button to restart the kernel. For Vertex AI Workbench you can restart the terminal using the button on top."
      ]
    },
    {
      "cell_type": "code",
      "execution_count": null,
      "metadata": {
        "id": "YmY9HVVGSBW5",
        "colab": {
          "base_uri": "https://localhost:8080/"
        },
        "outputId": "5d28050c-0f0a-4bf6-e024-931f0774349c"
      },
      "outputs": [
        {
          "output_type": "execute_result",
          "data": {
            "text/plain": [
              "{'status': 'ok', 'restart': True}"
            ]
          },
          "metadata": {},
          "execution_count": 2
        }
      ],
      "source": [
        "# Automatically restart kernel after installs so that your environment can access the new packages\n",
        "import IPython\n",
        "\n",
        "app = IPython.Application.instance()\n",
        "app.kernel.do_shutdown(True)"
      ]
    },
    {
      "cell_type": "markdown",
      "metadata": {
        "id": "6Fom0ZkMSBW6"
      },
      "source": [
        "### Authenticating your notebook environment\n",
        "* If you are using **Colab** to run this notebook, uncomment the cell below and continue.\n",
        "* If you are using **Vertex AI Workbench**, check out the setup instructions [here](https://github.com/GoogleCloudPlatform/generative-ai/tree/main/setup-env)."
      ]
    },
    {
      "cell_type": "code",
      "execution_count": null,
      "metadata": {
        "id": "LCaCx6PLSBW6"
      },
      "outputs": [],
      "source": [
        "from google.colab import auth\n",
        "auth.authenticate_user()"
      ]
    },
    {
      "cell_type": "markdown",
      "metadata": {
        "id": "GckO4EysV5BT"
      },
      "source": [
        "## Vertex AI PaLM API models"
      ]
    },
    {
      "cell_type": "markdown",
      "metadata": {
        "id": "BDYqwDmTLgEy"
      },
      "source": [
        "The Vertex AI PaLM API enables you to test, customize, and deploy instances of Google’s large language models (LLM) called as PaLM,  so that you can leverage the capabilities of PaLM in your applications.\n",
        "\n",
        "### Model naming scheme\n",
        "Foundation model names have three components: use case, model size, and version number. The naming convention is in the format:  \n",
        "`<use case>-<model size>@<version number>`\n",
        "\n",
        "For example, text-bison@001 represents the Bison text model, version 001.\n",
        "\n",
        "The model sizes are as follows:\n",
        "- **Bison**: The best value in terms of capability and cost.\n",
        "- **Gecko**: The smallest and cheapest model for simple tasks.\n",
        "\n",
        "### Available models\n",
        "\n",
        "The Vertex AI Codey API currently supports three models:\n",
        "\n",
        "* `code-bison@001`: A model fine-tuned to generate code based on a natural language description of the desired code. For example, it can generate a unit test for a function.\n",
        "\n",
        "* `code-gecko@001`: A model fine-tuned to suggest code completion based on the context in code that's written.\n",
        "\n",
        "* `codechat-bison@001`: A model fine-tuned for chatbot conversations that help with code-related questions.\n",
        "\n",
        "You can find more information about the properties of these [foundational models in the Generative AI Studio documentation](https://cloud.google.com/vertex-ai/docs/generative-ai/learn/models#foundation_models).\n"
      ]
    },
    {
      "cell_type": "markdown",
      "metadata": {
        "id": "BuQwwRiniVFG"
      },
      "source": [
        "### Import libraries"
      ]
    },
    {
      "cell_type": "markdown",
      "metadata": {
        "id": "Vnq2kIV8yQ97"
      },
      "source": [
        "**Colab only:** Uncomment the following cell to initialize the Vertex AI SDK. For Vertex AI Workbench, you don't need to run this.  "
      ]
    },
    {
      "cell_type": "code",
      "execution_count": null,
      "metadata": {
        "id": "rtMowvm-yQ97"
      },
      "outputs": [],
      "source": [
        "import vertexai\n",
        "\n",
        "PROJECT_ID = \"cloud-llm-preview1\"  # @param {type:\"string\"}\n",
        "vertexai.init(project=PROJECT_ID, location=\"us-central1\")"
      ]
    },
    {
      "cell_type": "code",
      "execution_count": null,
      "metadata": {
        "id": "4zjV4alsiVql"
      },
      "outputs": [],
      "source": [
        "from IPython.display import Markdown, display\n",
        "from vertexai.language_models import CodeGenerationModel"
      ]
    },
    {
      "cell_type": "markdown",
      "source": [
        "## Code generation with code-bison@latest"
      ],
      "metadata": {
        "id": "5B1PlCAr3GQi"
      }
    },
    {
      "cell_type": "markdown",
      "source": [
        "\n",
        "The code generation model (Codey) from PaLM API that you will use in this notebook is code-bison@001. It is fine-tuned to follow natural language instructions to generate required code and is suitable for a variety of coding tasks, such as:\n",
        "\n",
        "- writing functions\n",
        "- writing classes\n",
        "- web-apges\n",
        "- unit tests\n",
        "- docstrings\n",
        "- code translations, and many more use-cases.\n",
        "\n",
        "Currently it supports the following languages:\n",
        "- C++\n",
        "- C#\n",
        "- Go\n",
        "- GoogleSQL\n",
        "- Java\n",
        "- JavaScript\n",
        "- Kotlin\n",
        "- PHP\n",
        "- Python\n",
        "- Ruby\n",
        "- Rust\n",
        "- Scala\n",
        "- Swift\n",
        "- TypeScript\n",
        "\n",
        "You can find our more details [here](https://cloud.google.com/vertex-ai/docs/generative-ai/code/code-models-overview)."
      ],
      "metadata": {
        "id": "wzoNuCqd3pbn"
      }
    },
    {
      "cell_type": "markdown",
      "source": [
        "### Load model"
      ],
      "metadata": {
        "id": "H6AzUJLt-ihw"
      }
    },
    {
      "cell_type": "code",
      "source": [
        "code_generation_model = CodeGenerationModel.from_pretrained(\"code-bison\")\n",
        "# code_generation_model = CodeGenerationModel.from_pretrained(\"code-bison-32k\")"
      ],
      "metadata": {
        "id": "GqGueQgG3pAA"
      },
      "execution_count": null,
      "outputs": []
    },
    {
      "cell_type": "markdown",
      "source": [
        "### Model parameters for `code-bison`\n",
        "\n",
        "You can customize how the PaLM API code generation behaves in response to your prompt by using the following parameters for `code-bison@001`:\n",
        "\n",
        " - `prefix`: it represents the beginning of a piece of meaningful programming code or a natural language prompt that describes code to be generated.\n",
        " - `temperature`: higher means more \"creative\" code responses. range: (0.0 - 1.0, default 0).\n",
        " - `max_output_tokens`: sets the max number of tokens in the output. range: (1 - 2048, default 2048)\n"
      ],
      "metadata": {
        "id": "qDzu2A0k_YYL"
      }
    },
    {
      "cell_type": "markdown",
      "source": [
        "### Hello Codey"
      ],
      "metadata": {
        "id": "WIiZZHJAC0jC"
      }
    },
    {
      "cell_type": "markdown",
      "source": [
        "Test the code that is being generated [here](https://onecompiler.com/)"
      ],
      "metadata": {
        "id": "1a0swVvTN0JP"
      }
    },
    {
      "cell_type": "code",
      "source": [
        "prefix = \"write a python function to do binary search\"\n",
        "\n",
        "response = code_generation_model.predict(prefix=prefix)\n",
        "\n",
        "print(response.text)"
      ],
      "metadata": {
        "id": "oiywwL1T5grZ",
        "colab": {
          "base_uri": "https://localhost:8080/"
        },
        "outputId": "5ee561bb-0d1b-4934-cc66-f64705104e0b"
      },
      "execution_count": null,
      "outputs": [
        {
          "output_type": "stream",
          "name": "stdout",
          "text": [
            "```python\n",
            "def binary_search(arr, target):\n",
            "    low = 0\n",
            "    high = len(arr) - 1\n",
            "\n",
            "    while low <= high:\n",
            "        mid = (low + high) // 2\n",
            "        guess = arr[mid]\n",
            "\n",
            "        if guess == target:\n",
            "            return mid\n",
            "        elif guess < target:\n",
            "            low = mid + 1\n",
            "        else:\n",
            "            high = mid - 1\n",
            "\n",
            "    return -1\n",
            "```\n"
          ]
        }
      ]
    },
    {
      "cell_type": "markdown",
      "source": [
        "### Try out your own prompt"
      ],
      "metadata": {
        "id": "Dai1FtyDDUjX"
      }
    },
    {
      "cell_type": "markdown",
      "source": [
        "Some examples:\n",
        "* write Go program to extract ip addresses from the text file\n",
        "* write Java program that can extract pincodes from addresses\n",
        "* write a standard SQL function that strips all non-alphabet characters from the string and encodes it to utf-8"
      ],
      "metadata": {
        "id": "YukcUkJRDZvI"
      }
    },
    {
      "cell_type": "code",
      "source": [
        "prefix = \"\"\"write a python function that can do cosine similairty between two vectors,\n",
        "            named as \"calculate_cosine_similairty\" and two input arguments \"vector1\" and \"vector2\". \\\n",
        "          \"\"\"\n",
        "\n",
        "response = code_generation_model.predict(prefix=prefix, max_output_tokens=1024)\n",
        "\n",
        "print(response.text)"
      ],
      "metadata": {
        "id": "CvKHdTHy6RIi",
        "colab": {
          "base_uri": "https://localhost:8080/"
        },
        "outputId": "8be4b62a-4ba3-4d0d-aa80-df79c9a49061"
      },
      "execution_count": null,
      "outputs": [
        {
          "output_type": "stream",
          "name": "stdout",
          "text": [
            "```python\n",
            "import numpy as np\n",
            "\n",
            "def calculate_cosine_similarity(vector1, vector2):\n",
            "  \"\"\"Calculates the cosine similarity between two vectors.\n",
            "\n",
            "  Args:\n",
            "    vector1: A numpy array representing the first vector.\n",
            "    vector2: A numpy array representing the second vector.\n",
            "\n",
            "  Returns:\n",
            "    A float representing the cosine similarity between the two vectors.\n",
            "  \"\"\"\n",
            "\n",
            "  # Check that the vectors are the same size.\n",
            "  if vector1.size != vector2.size:\n",
            "    raise ValueError(\"Vectors must be the same size.\")\n",
            "\n",
            "  # Calculate the dot product of the two vectors.\n",
            "  dot_product = np.dot(vector1, vector2)\n",
            "\n",
            "  # Calculate the magnitudes of the two vectors.\n",
            "  magnitude1 = np.linalg.norm(vector1)\n",
            "  magnitude2 = np.linalg.norm(vector2)\n",
            "\n",
            "  # Calculate the cosine similarity.\n",
            "  cosine_similarity = dot_product / (magnitude1 * magnitude2)\n",
            "\n",
            "  return cosine_similarity\n",
            "```\n"
          ]
        }
      ]
    },
    {
      "cell_type": "markdown",
      "source": [
        "### Prompt templates"
      ],
      "metadata": {
        "id": "iZ0AEuFAEB1N"
      }
    },
    {
      "cell_type": "markdown",
      "source": [
        "Prompt templates are useful if you have found a good way to structure your prompt that you can re-use. This can be also be helpful in limiting the open-endedness of freeform prompts. There are many ways to implement prompt templates, and below is just one example using f-strings. This way you can structure the prompts as per the expected funcationality of the code."
      ],
      "metadata": {
        "id": "LpFTrfLnFHBy"
      }
    },
    {
      "cell_type": "code",
      "source": [
        "language = \"python\"\n",
        "prefix = f\"\"\"Write a {language} function that can input unsorted array or list and return the sorted array or list.\n",
        "             it should not use any pre-built function or library.\n",
        "              \"\"\"\n",
        "\n",
        "response = code_generation_model.predict(prefix=prefix, max_output_tokens=1024)\n",
        "\n",
        "print(response.text)"
      ],
      "metadata": {
        "colab": {
          "base_uri": "https://localhost:8080/"
        },
        "id": "1abvkgsZxsh3",
        "outputId": "f7b462d2-7111-41f7-a991-76c21191ba47"
      },
      "execution_count": null,
      "outputs": [
        {
          "output_type": "stream",
          "name": "stdout",
          "text": [
            "```python\n",
            "def insertion_sort(input_list):\n",
            "    for i in range(1, len(input_list)):\n",
            "        current_value = input_list[i]\n",
            "        j = i - 1\n",
            "        while j >= 0 and input_list[j] > current_value:\n",
            "            input_list[j + 1] = input_list[j]\n",
            "            j -= 1\n",
            "        input_list[j + 1] = current_value\n",
            "    return input_list\n",
            "\n",
            "```\n"
          ]
        }
      ]
    },
    {
      "cell_type": "code",
      "source": [
        "language = \"python\"\n",
        "file_format = \"json\"\n",
        "extract_info = \"names\"\n",
        "requirments = \"\"\"\n",
        "              - the name should be start with capital letters.\n",
        "              - There should be no duplicate names in the final list.\n",
        "              \"\"\"\n",
        "\n",
        "prefix = f\"\"\"Create a {language} to parse {file_format} and extract {extract_info} with the following requirements: {requirments}.\n",
        "              \"\"\"\n",
        "\n",
        "response = code_generation_model.predict(prefix=prefix, max_output_tokens=1024)\n",
        "\n",
        "print(response.text)"
      ],
      "metadata": {
        "id": "gznmqXU067tj",
        "colab": {
          "base_uri": "https://localhost:8080/"
        },
        "outputId": "1c6fc7da-b9c7-4521-e9af-834d5bc31823"
      },
      "execution_count": null,
      "outputs": [
        {
          "output_type": "stream",
          "name": "stdout",
          "text": [
            "```python\n",
            "import json\n",
            "import string\n",
            "\n",
            "# Load the JSON data from the file\n",
            "with open('data.json') as f:\n",
            "    data = json.load(f)\n",
            "\n",
            "# Create a set to store the unique names\n",
            "names = set()\n",
            "\n",
            "# Iterate over the data and extract the names\n",
            "for person in data:\n",
            "    name = person['name']\n",
            "\n",
            "    # Check if the name starts with a capital letter\n",
            "    if name[0] in string.ascii_uppercase:\n",
            "        # Add the name to the set\n",
            "        names.add(name)\n",
            "\n",
            "# Print the unique names\n",
            "print(names)\n",
            "```\n"
          ]
        }
      ]
    },
    {
      "cell_type": "markdown",
      "source": [
        "## Prompt Design Patterns"
      ],
      "metadata": {
        "id": "1PhbbK7a0B1n"
      }
    },
    {
      "cell_type": "markdown",
      "source": [
        "### Problem-statement Template"
      ],
      "metadata": {
        "id": "k8W5Lc9O0G-3"
      }
    },
    {
      "cell_type": "markdown",
      "source": [
        "#### C"
      ],
      "metadata": {
        "id": "Bre8loKSYtT-"
      }
    },
    {
      "cell_type": "code",
      "source": [
        "language = \"c\"\n",
        "problem_statement = \"find the smallest element in an unordered list\"\n",
        "\n",
        "prefix = \"write a \" + language + \" function to \" + problem_statement\n",
        "\n",
        "response = code_generation_model.predict(prefix=prefix)\n",
        "\n",
        "print(response.text)"
      ],
      "metadata": {
        "colab": {
          "base_uri": "https://localhost:8080/"
        },
        "id": "zwM_U-ch0FB6",
        "outputId": "3196f4f2-6bef-4baa-86c6-4a896ba31ba2"
      },
      "execution_count": null,
      "outputs": [
        {
          "output_type": "stream",
          "name": "stdout",
          "text": [
            "```c\n",
            "#include <stdio.h>\n",
            "#include <stdlib.h>\n",
            "\n",
            "int find_smallest_element(int *list, int size) {\n",
            "    int smallest_element = list[0];\n",
            "    for (int i = 1; i < size; i++) {\n",
            "        if (list[i] < smallest_element) {\n",
            "            smallest_element = list[i];\n",
            "        }\n",
            "    }\n",
            "    return smallest_element;\n",
            "}\n",
            "\n",
            "int main() {\n",
            "    int list[] = {10, 20, 30, 40, 50};\n",
            "    int size = sizeof(list) / sizeof(list[0]);\n",
            "    int smallest_element = find_smallest_element(list, size);\n",
            "    printf(\"The smallest element in the list is %d\\n\", smallest_element);\n",
            "    return 0;\n",
            "}\n",
            "```\n"
          ]
        }
      ]
    },
    {
      "cell_type": "markdown",
      "source": [
        "#### C++"
      ],
      "metadata": {
        "id": "xQ1bw0OI1pM8"
      }
    },
    {
      "cell_type": "code",
      "source": [
        "language = \"cpp\"\n",
        "problem_statement = \"\"\"Sort an array in one swap whose two elements are swapped and rest are in sorted order \\\n",
        "                      for example: \\\n",
        "                      input: {1, 5, 3, 7, 9}\n",
        "                      output: {1,3,5,7,9}\n",
        "                    \"\"\"\n",
        "\n",
        "prefix = \"write a \" + language + \" function to \" + problem_statement\n",
        "\n",
        "response = code_generation_model.predict(prefix=prefix)\n",
        "\n",
        "print(response.text)\n"
      ],
      "metadata": {
        "colab": {
          "base_uri": "https://localhost:8080/"
        },
        "id": "JiEcCW-X1y89",
        "outputId": "b4051c5a-fc47-4f85-c716-72cfd430f699"
      },
      "execution_count": null,
      "outputs": [
        {
          "output_type": "stream",
          "name": "stdout",
          "text": [
            "```c++\n",
            "#include <iostream>\n",
            "#include <vector>\n",
            "using namespace std;\n",
            "\n",
            "void swap(int *a, int *b) {\n",
            "  int temp = *a;\n",
            "  *a = *b;\n",
            "  *b = temp;\n",
            "}\n",
            "\n",
            "void sortArray(vector<int> &arr) {\n",
            "  int n = arr.size();\n",
            "  for (int i = 0; i < n - 1; i++) {\n",
            "    if (arr[i] > arr[i + 1]) {\n",
            "      swap(&arr[i], &arr[i + 1]);\n",
            "      break;\n",
            "    }\n",
            "  }\n",
            "}\n",
            "\n",
            "int main() {\n",
            "  vector<int> arr = {1, 5, 3, 7, 9};\n",
            "  sortArray(arr);\n",
            "  for (int i = 0; i < arr.size(); i++) {\n",
            "    cout << arr[i] << \" \";\n",
            "  }\n",
            "  cout << endl;\n",
            "  return 0;\n",
            "}\n",
            "```\n"
          ]
        }
      ]
    },
    {
      "cell_type": "markdown",
      "source": [
        "#### Clojure"
      ],
      "metadata": {
        "id": "RWkwmHlqfM_Y"
      }
    },
    {
      "cell_type": "code",
      "source": [
        "language = \"clojure\"\n",
        "problem_statement = \"\"\"that takes a string and calculates if its palindrome or not.\n",
        "                      print the outputs with two example: 'radar' and 'happy'\n",
        "                    \"\"\"\n",
        "\n",
        "prefix = \"write a \" + language + \" function \" + problem_statement\n",
        "\n",
        "response = code_generation_model.predict(prefix=prefix)\n",
        "\n",
        "print(response.text)"
      ],
      "metadata": {
        "colab": {
          "base_uri": "https://localhost:8080/"
        },
        "id": "eBdZdGTBF2LU",
        "outputId": "bdd70001-fc64-4d6f-cab3-b77169b026fb"
      },
      "execution_count": null,
      "outputs": [
        {
          "output_type": "stream",
          "name": "stdout",
          "text": [
            "```clojure\n",
            "(defn palindrome? [s]\n",
            "  (= s (clojure.string/reverse s)))\n",
            "\n",
            "(println (palindrome? \"radar\"))\n",
            ";=> true\n",
            "\n",
            "(println (palindrome? \"happy\"))\n",
            ";=> false\n",
            "```\n"
          ]
        }
      ]
    },
    {
      "cell_type": "markdown",
      "source": [
        "#### Elixir"
      ],
      "metadata": {
        "id": "L4dafG41fRFF"
      }
    },
    {
      "cell_type": "code",
      "source": [
        "language = \"elixir\"\n",
        "problem_statement = \"\"\"print the first non-repeated character from a string.\n",
        "                      take example of 'Mississippi' and 'hello' as example.\n",
        "                    \"\"\"\n",
        "\n",
        "prefix = \"write a \" + language + \" function \" + problem_statement\n",
        "\n",
        "response = code_generation_model.predict(prefix=prefix)\n",
        "\n",
        "print(response.text)"
      ],
      "metadata": {
        "id": "OL_MDS2yJytP",
        "colab": {
          "base_uri": "https://localhost:8080/"
        },
        "outputId": "1ec5c2e4-f206-4f4d-d6b6-4ffd3fb17370"
      },
      "execution_count": null,
      "outputs": [
        {
          "output_type": "stream",
          "name": "stdout",
          "text": [
            "```elixir\n",
            "defmodule Non_repeated_character do\n",
            "  def find_first_non_repeated_character(string) do\n",
            "    string\n",
            "    |> String.codepoints\n",
            "    |> Enum.group_by(fn x -> x end)\n",
            "    |> Map.values\n",
            "    |> Enum.find(fn list -> length(list) == 1 end)\n",
            "    |> List.first\n",
            "  end\n",
            "end\n",
            "\n",
            "IO.puts Non_repeated_character.find_first_non_repeated_character(\"Mississippi\")\n",
            "IO.puts Non_repeated_character.find_first_non_repeated_character(\"hello\")\n",
            "```\n"
          ]
        }
      ]
    },
    {
      "cell_type": "markdown",
      "source": [
        "#### Erlang"
      ],
      "metadata": {
        "id": "Z5RxDUrQjG6k"
      }
    },
    {
      "cell_type": "code",
      "source": [
        "language = \"erlang\"\n",
        "problem_statement = \"\"\"reverse an array in place. Take input of array.Take input of array and output the reversed array.\n",
        "                       For example: [1,2,3,4,5] -> [5,4,3,2,1]\n",
        "                    \"\"\"\n",
        "\n",
        "prefix = \"write a \" + language + \" program \" + problem_statement\n",
        "\n",
        "response = code_generation_model.predict(prefix=prefix)\n",
        "\n",
        "print(response.text)"
      ],
      "metadata": {
        "colab": {
          "base_uri": "https://localhost:8080/"
        },
        "id": "DgQ313X-gLrX",
        "outputId": "ec1c34a6-efa9-4b32-a18d-5e798854c058"
      },
      "execution_count": null,
      "outputs": [
        {
          "output_type": "stream",
          "name": "stdout",
          "text": [
            "```erlang\n",
            "-module(reverse_array).\n",
            "-export([main/0]).\n",
            "\n",
            "main() ->\n",
            "    Array = [1,2,3,4,5],\n",
            "    io:fwrite(\"Original array: ~p~n\", [Array]),\n",
            "    Reversed_array = reverse(Array),\n",
            "    io:fwrite(\"Reversed array: ~p~n\", [Reversed_array]).\n",
            "\n",
            "reverse([]) ->\n",
            "    [];\n",
            "reverse([H|T]) ->\n",
            "    reverse(T) ++ [H].\n",
            "```\n"
          ]
        }
      ]
    },
    {
      "cell_type": "markdown",
      "source": [
        "#### Fortran"
      ],
      "metadata": {
        "id": "JxvXnpp8kuHU"
      }
    },
    {
      "cell_type": "code",
      "source": [
        "language = \"Fortan\"\n",
        "problem_statement = \"\"\" to remove duplicate elements from given array.\n",
        "                    \"\"\"\n",
        "\n",
        "prefix = \"write a \" + language + \" program \" + problem_statement\n",
        "\n",
        "response = code_generation_model.predict(prefix=prefix)\n",
        "\n",
        "print(response.text)"
      ],
      "metadata": {
        "colab": {
          "base_uri": "https://localhost:8080/"
        },
        "id": "1lHXXUvajJKJ",
        "outputId": "ef6a25d9-044d-4ac5-bdef-029384b8ed6d"
      },
      "execution_count": null,
      "outputs": [
        {
          "output_type": "stream",
          "name": "stdout",
          "text": [
            "```fortran\n",
            "program remove_duplicates\n",
            "  implicit none\n",
            "\n",
            "  integer, dimension(10) :: arr = (/ 1, 2, 3, 4, 5, 1, 2, 3, 4, 5 /)\n",
            "  integer, dimension(10) :: unique_arr\n",
            "  integer :: i, j, count\n",
            "\n",
            "  count = 0\n",
            "  do i = 1, 10\n",
            "    do j = 1, count\n",
            "      if (arr(i) == unique_arr(j)) cycle\n",
            "    end do\n",
            "    unique_arr(count + 1) = arr(i)\n",
            "    count = count + 1\n",
            "  end do\n",
            "\n",
            "  print *, unique_arr(1:count)\n",
            "\n",
            "end program remove_duplicates\n",
            "```\n"
          ]
        }
      ]
    },
    {
      "cell_type": "markdown",
      "source": [
        "#### Go"
      ],
      "metadata": {
        "id": "I5Q6wW8QoACz"
      }
    },
    {
      "cell_type": "code",
      "source": [
        "language = \"Go\"\n",
        "problem_statement = \"\"\"that can extract ipv4 addresses from the each line in the log file. use fmt and regexp package.\n",
        "                        input:\n",
        "                        03/22 08:51:06 INFO   :...read_physical_netif: index #0, interface VLINK1 has address 129.1.1.1, ifidx 0\n",
        "                        output:\n",
        "                        129.1.1.1\n",
        "                        \\n\\n\n",
        "                    \"\"\"\n",
        "\n",
        "prefix = \"write a \" + language + \" function \" + problem_statement\n",
        "\n",
        "response = code_generation_model.predict(prefix=prefix)\n",
        "\n",
        "print(response.text)"
      ],
      "metadata": {
        "colab": {
          "base_uri": "https://localhost:8080/"
        },
        "id": "sgdIuCrpkzSA",
        "outputId": "6de03a5e-59b0-4bf5-84df-581b20b87c0c"
      },
      "execution_count": null,
      "outputs": [
        {
          "output_type": "stream",
          "name": "stdout",
          "text": [
            "```go\n",
            "package main\n",
            "\n",
            "import (\n",
            "    \"fmt\"\n",
            "    \"regexp\"\n",
            ")\n",
            "\n",
            "func main() {\n",
            "    // Sample log line\n",
            "    logLine := \"03/22 08:51:06 INFO   :...read_physical_netif: index #0, interface VLINK1 has address 129.1.1.1, ifidx 0\"\n",
            "\n",
            "    // Regular expression to extract IPv4 addresses\n",
            "    ipv4Regex := regexp.MustCompile(`\\b(?:(?:25[0-5]|2[0-4][0-9]|[01]?[0-9][0-9]?)\\.){3}(?:25[0-5]|2[0-4][0-9]|[01]?[0-9][0-9]?)\\b`)\n",
            "\n",
            "    // Find all IPv4 addresses in the log line\n",
            "    matches := ipv4Regex.FindAllString(logLine, -1)\n",
            "\n",
            "    // Print the extracted IPv4 addresses\n",
            "    for _, match := range matches {\n",
            "        fmt.Println(match)\n",
            "    }\n",
            "}\n",
            "```\n"
          ]
        }
      ]
    },
    {
      "cell_type": "markdown",
      "source": [
        "### SQL Metadata & Performance"
      ],
      "metadata": {
        "id": "RF09q_LNZl_Q"
      }
    },
    {
      "cell_type": "markdown",
      "source": [
        "#### SQL"
      ],
      "metadata": {
        "id": "sHGu7mZ3rMCb"
      }
    },
    {
      "cell_type": "code",
      "source": [
        "problem_statement = \"\"\"\n",
        "                    You are a developer working on an e-commerce platform.\n",
        "                    The marketing team has requested a report on the total number of orders and the average order \\\n",
        "                    value for each product category for the past month.\n",
        "                    Your task is to generate a SQL queries to retrieve the total number of orders and the average order \\\n",
        "                    value for each product category for the orders placed in the:\n",
        "                    1) past month,\n",
        "                    2) given data range,\n",
        "                    3) end of each month for given year,\n",
        "                    4) christmas and new year's eve.\n",
        "                    \"\"\"\n",
        "table_metadata = \"\"\"\n",
        "                 - **Orders:**\n",
        "                    - `OrderID` (integer)\n",
        "                    - `ProductID` (integer)\n",
        "                    - `ProductName` (string)\n",
        "                    - `Category` (string)\n",
        "                    - `OrderDate` (date)\n",
        "                    - `OrderAmount` (decimal)\n",
        "                \"\"\"\n",
        "code_style = \"\"\"\n",
        "            Write a SQL query that follows best practices, is readable, and well-commented.\n",
        "             \"\"\"\n",
        "\n",
        "performance_requirement = \"\"\"\n",
        "                          Optimize the query for performance considering the potential size of the \"Orders\" table.\n",
        "                          Consider using appropriate indexing if necessary.\n",
        "                          \"\"\"\n",
        "\n",
        "prefix = f\"\"\" Solve the following: {problem_statement}. The given table metadata is : {table_metadata} .\n",
        "          Follow the following code style:{code_style} . The following performance requirement is: {performance_requirement} .\n",
        "          \"\"\"\n",
        "response = code_generation_model.predict(prefix=prefix)\n",
        "\n",
        "print(response.text)\n"
      ],
      "metadata": {
        "colab": {
          "base_uri": "https://localhost:8080/"
        },
        "id": "8Q5n_EzALp0C",
        "outputId": "54a05bb2-1be0-4139-a5a1-68a31763f387"
      },
      "execution_count": null,
      "outputs": [
        {
          "output_type": "stream",
          "name": "stdout",
          "text": [
            "```sql\n",
            "-- 1. Total number of orders and average order value for each product category for the past month\n",
            "\n",
            "SELECT \n",
            "  Category, \n",
            "  COUNT(*) AS TotalOrders, \n",
            "  AVG(OrderAmount) AS AverageOrderValue\n",
            "FROM Orders\n",
            "WHERE OrderDate >= DATE_SUB(NOW(), INTERVAL 1 MONTH)\n",
            "GROUP BY Category;\n",
            "\n",
            "\n",
            "-- 2. Total number of orders and average order value for each product category for the given data range\n",
            "\n",
            "SELECT \n",
            "  Category, \n",
            "  COUNT(*) AS TotalOrders, \n",
            "  AVG(OrderAmount) AS AverageOrderValue\n",
            "FROM Orders\n",
            "WHERE OrderDate BETWEEN '2023-01-01' AND '2023-01-31'\n",
            "GROUP BY Category;\n",
            "\n",
            "\n",
            "-- 3. Total number of orders and average order value for each product category for the end of each month for the given year\n",
            "\n",
            "SELECT \n",
            "  DATE_FORMAT(OrderDate, '%Y-%m') AS Month, \n",
            "  Category, \n",
            "  COUNT(*) AS TotalOrders, \n",
            "  AVG(OrderAmount) AS AverageOrderValue\n",
            "FROM Orders\n",
            "WHERE OrderDate BETWEEN '2023-01-01' AND '2023-12-31'\n",
            "GROUP BY Month, Category;\n",
            "\n",
            "\n",
            "-- 4. Total number of orders and average order value for each product category for Christmas and New Year's Eve\n",
            "\n",
            "SELECT \n",
            "  Category, \n",
            "  COUNT(*) AS TotalOrders, \n",
            "  AVG(OrderAmount) AS AverageOrderValue\n",
            "FROM Orders\n",
            "WHERE OrderDate IN ('2022-12-25', '2023-01-01')\n",
            "GROUP BY Category;\n",
            "```\n"
          ]
        }
      ]
    },
    {
      "cell_type": "markdown",
      "source": [
        "#### BigQuery"
      ],
      "metadata": {
        "id": "LIG3zF7ErOJT"
      }
    },
    {
      "cell_type": "code",
      "source": [
        "metadata = \"\"\"\n",
        "          A table of customer data, with the following columns:\n",
        "\n",
        "          customer_id: The unique identifier for the customer.\n",
        "          first_name: The customer's first name.\n",
        "          last_name: The customer's last name.\n",
        "          email: The customer's email address.\n",
        "          phone_number: The customer's phone number.\n",
        "          country: The customer's country of residence.\n",
        "          order_history: A JSON object containing the customer's order history, including the following information for each order:\n",
        "          order_id: The unique identifier for the order.\n",
        "          order_date: The date the order was placed.\n",
        "          order_total: The total amount of the order.\n",
        "          order_items: A list of the items ordered, including the following information for each item:\n",
        "          item_id: The unique identifier for the item.\n",
        "          item_name: The name of the item.\n",
        "          item_quantity: The quantity of the item ordered.\n",
        "          item_price: The price of the item.\n",
        "\n",
        "            \"\"\"\n",
        "language = \"BigQuery\"\n",
        "problem = \"\"\"solve following queries: \\n\n",
        "            - Total number of orders placed. \\n\n",
        "            - Total amount of money spent on orders. \\n\n",
        "            - Average order value. \\n\n",
        "            - Most popular item ordered (by quantity). \\n\n",
        "            - Most recent order placed. \\n\n",
        "          \"\"\"\n",
        "additional_requirment = \"\"\"\n",
        "            - The query should be efficient and scalable, as the customer table may contain millions of rows. \\n\n",
        "            - The query should be easy to read and maintain.\n",
        "            \"\"\"\n",
        "prefix = f\"\"\"Write a {language} query to {problem}.\n",
        "          use this as the table metadata: {metadata}.\n",
        "          Here are some additional requirement for the query: {additional_requirment}.\n",
        "          Generate each query as a separate query seperated with a comment.\n",
        "              \"\"\"\n",
        "response = code_generation_model.predict(prefix=prefix, max_output_tokens=2000)\n",
        "\n",
        "print(response.text)"
      ],
      "metadata": {
        "colab": {
          "base_uri": "https://localhost:8080/"
        },
        "id": "wAIoVQoCpz16",
        "outputId": "fe95692f-63e2-48a1-9a14-1383ce9a95c2"
      },
      "execution_count": null,
      "outputs": [
        {
          "output_type": "stream",
          "name": "stdout",
          "text": [
            "```sql\n",
            "-- Total number of orders placed\n",
            "SELECT COUNT(*) AS total_orders\n",
            "FROM customer_data;\n",
            "\n",
            "-- Total amount of money spent on orders\n",
            "SELECT SUM(order_total) AS total_amount_spent\n",
            "FROM customer_data, UNNEST(order_history) AS order;\n",
            "\n",
            "-- Average order value\n",
            "SELECT AVG(order_total) AS average_order_value\n",
            "FROM customer_data, UNNEST(order_history) AS order;\n",
            "\n",
            "-- Most popular item ordered (by quantity)\n",
            "SELECT item_name, SUM(item_quantity) AS total_quantity\n",
            "FROM customer_data, UNNEST(order_history) AS order, UNNEST(order_items) AS item\n",
            "GROUP BY item_name\n",
            "ORDER BY total_quantity DESC\n",
            "LIMIT 1;\n",
            "\n",
            "-- Most recent order placed\n",
            "SELECT order_date\n",
            "FROM customer_data, UNNEST(order_history) AS order\n",
            "ORDER BY order_date DESC\n",
            "LIMIT 1;\n",
            "```\n"
          ]
        }
      ]
    },
    {
      "cell_type": "markdown",
      "source": [
        "### Code Optimization"
      ],
      "metadata": {
        "id": "rojGQweJalYN"
      }
    },
    {
      "cell_type": "markdown",
      "source": [
        "#### Haskell"
      ],
      "metadata": {
        "id": "TvMKMc87tVb4"
      }
    },
    {
      "cell_type": "code",
      "source": [
        "sample_input = \"A list of integers, e.g. [1, 2, 3, 4, 5]\"\n",
        "language = \"Haskell\"\n",
        "problem_statement = f\"a {language} program that calculates the sum of all the integers in the list.\"\n",
        "additional_requirement = \"\"\"\n",
        "                      - The function should be efficient and recursive.\n",
        "                      - The function should be polymorphic, so that it can be used to sum lists of any type of number.\n",
        "                      \"\"\"\n",
        "prefix = f\"\"\"\n",
        "        Write {problem_statement}. \\n\n",
        "        Also add example use case that take {sample_input} calling the function generated.\n",
        "        Here are some additional requirement for the function: {additional_requirement}.\n",
        "        \"\"\"\n",
        "response = code_generation_model.predict(prefix=prefix, max_output_tokens=1000)\n",
        "\n",
        "print(response.text)\n"
      ],
      "metadata": {
        "colab": {
          "base_uri": "https://localhost:8080/"
        },
        "id": "y2eBkgwFr3N6",
        "outputId": "45eaff56-253e-405c-b096-e5e09bea879a"
      },
      "execution_count": null,
      "outputs": [
        {
          "output_type": "stream",
          "name": "stdout",
          "text": [
            "```haskell\n",
            "sumList :: (Num a) => [a] -> a\n",
            "sumList [] = 0\n",
            "sumList (x:xs) = x + sumList xs\n",
            "\n",
            "main :: IO ()\n",
            "main = print $ sumList [1, 2, 3, 4, 5]\n",
            "```\n"
          ]
        }
      ]
    },
    {
      "cell_type": "markdown",
      "source": [
        "#### Java"
      ],
      "metadata": {
        "id": "uSDxG_tfvS9h"
      }
    },
    {
      "cell_type": "code",
      "source": [
        "sample_input = \"\"\" \"(1 + 2) * 3\"\n",
        "              \"\"\"\n",
        "language = \"Java\"\n",
        "problem_statement = f\"a {language} program that evaluates the mathematical expression and prints the result to the console.\"\n",
        "additional_requirement = \"\"\"\n",
        "                      - The program should handle all valid mathematical expressions, including those with parentheses, operators, and variables.\n",
        "                      \"\"\"\n",
        "prefix = f\"\"\"\n",
        "        Write {problem_statement}. \\n\n",
        "        Use {sample_input} to test the generated code.\n",
        "        Here are some additional requirement for the function: {additional_requirement}.\n",
        "        \"\"\"\n",
        "response = code_generation_model.predict(prefix=prefix)\n",
        "\n",
        "print(response.text)\n"
      ],
      "metadata": {
        "colab": {
          "base_uri": "https://localhost:8080/"
        },
        "id": "sIiKTAK_tZXn",
        "outputId": "991fd952-c547-474b-b661-bef04c8f6d1a"
      },
      "execution_count": null,
      "outputs": [
        {
          "output_type": "stream",
          "name": "stdout",
          "text": [
            "```java\n",
            "import java.util.Scanner;\n",
            "\n",
            "public class EvaluateMathematicalExpression {\n",
            "\n",
            "    public static void main(String[] args) {\n",
            "        Scanner scanner = new Scanner(System.in);\n",
            "\n",
            "        System.out.println(\"Enter a mathematical expression: \");\n",
            "        String expression = scanner.nextLine();\n",
            "\n",
            "        double result = evaluateExpression(expression);\n",
            "\n",
            "        System.out.println(\"The result is: \" + result);\n",
            "    }\n",
            "\n",
            "    private static double evaluateExpression(String expression) {\n",
            "        // Create a new instance of the ExpressionEvaluator class\n",
            "        ExpressionEvaluator evaluator = new ExpressionEvaluator();\n",
            "\n",
            "        // Evaluate the expression and return the result\n",
            "        return evaluator.evaluate(expression);\n",
            "    }\n",
            "}\n",
            "```\n"
          ]
        }
      ]
    },
    {
      "cell_type": "markdown",
      "source": [
        "#### JavaScript"
      ],
      "metadata": {
        "id": "0uoq5mnJxchl"
      }
    },
    {
      "cell_type": "code",
      "source": [
        "sample_input = \"\"\"\n",
        "              A JSON object containing a list of products, each product with the following properties:\n",
        "              id: The unique identifier for the product.\n",
        "              name: The name of the product.\n",
        "              price: The price of the product.\n",
        "              quantity: The quantity of the product in stock.\n",
        "              \"\"\"\n",
        "language = \"JavaScript\"\n",
        "problem_statement = f\"\"\"a {language} function that takes the JSON object as input and returns a new JSON object containing the following properties:\n",
        "                      total_price: The total price of all the products in the list.\n",
        "                      average_price: The average price of all the products in the list.\n",
        "                      most_expensive_product: The most expensive product in the list.\n",
        "                      least_expensive_product: The least expensive product in the list.\n",
        "                      out_of_stock_products: A list of all the products that are out of stock.\n",
        "                    \"\"\"\n",
        "additional_requirement = \"\"\"\n",
        "                      - The function should be efficient and scalable, as the JSON object may contain millions of products.\n",
        "                      - The function should be easy to read and maintain.\n",
        "                      \"\"\"\n",
        "prefix = f\"\"\"\n",
        "        Write {problem_statement}. \\n\n",
        "        Also add example use case that take {sample_input} calling the function generated.\n",
        "        Here are some additional requirement for the function: {additional_requirement}.\n",
        "        \"\"\"\n",
        "response = code_generation_model.predict(prefix=prefix)\n",
        "\n",
        "print(response.text)\n"
      ],
      "metadata": {
        "colab": {
          "base_uri": "https://localhost:8080/"
        },
        "id": "H-nKwp_Cw0aL",
        "outputId": "473c8232-8aa0-4d64-ffd0-2af4ecfdfd8e"
      },
      "execution_count": null,
      "outputs": [
        {
          "output_type": "stream",
          "name": "stdout",
          "text": [
            "```javascript\n",
            "function processProducts(products) {\n",
            "  // Initialize the return object\n",
            "  const result = {\n",
            "    total_price: 0,\n",
            "    average_price: 0,\n",
            "    most_expensive_product: null,\n",
            "    least_expensive_product: null,\n",
            "    out_of_stock_products: [],\n",
            "  };\n",
            "\n",
            "  // Iterate over the products\n",
            "  for (const product of products) {\n",
            "    // Update the total price\n",
            "    result.total_price += product.price * product.quantity;\n",
            "\n",
            "    // Update the average price\n",
            "    result.average_price = result.total_price / products.length;\n",
            "\n",
            "    // Update the most expensive product\n",
            "    if (!result.most_expensive_product || product.price > result.most_expensive_product.price) {\n",
            "      result.most_expensive_product = product;\n",
            "    }\n",
            "\n",
            "    // Update the least expensive product\n",
            "    if (!result.least_expensive_product || product.price < result.least_expensive_product.price) {\n",
            "      result.least_expensive_product = product;\n",
            "    }\n",
            "\n",
            "    // Update the out of stock products\n",
            "    if (product.quantity === 0) {\n",
            "      result.out_of_stock_products.push(product);\n",
            "    }\n",
            "  }\n",
            "\n",
            "  // Return the result\n",
            "  return result;\n",
            "}\n",
            "\n",
            "// Example use case\n",
            "const products = [\n",
            "  {\n",
            "    id: 1,\n",
            "    name: 'Product 1',\n",
            "    price: 10,\n",
            "    quantity: 10,\n",
            "  },\n",
            "  {\n",
            "    id: 2,\n",
            "    name: 'Product 2',\n",
            "    price: 20,\n",
            "    quantity: 5,\n",
            "  },\n",
            "  {\n",
            "    id: 3,\n",
            "    name: 'Product 3',\n",
            "    price: 30,\n",
            "    quantity: 0,\n",
            "  },\n",
            "];\n",
            "\n",
            "const result = processProducts(products);\n",
            "console.log(result);\n",
            "\n",
            "```\n"
          ]
        }
      ]
    },
    {
      "cell_type": "markdown",
      "source": [
        "### Chain of Though"
      ],
      "metadata": {
        "id": "6lCvDVBtbdVp"
      }
    },
    {
      "cell_type": "markdown",
      "source": [
        "#### C++"
      ],
      "metadata": {
        "id": "J_s8w6eUwb02"
      }
    },
    {
      "cell_type": "code",
      "source": [
        "language = \"C++\"\n",
        "sample_input = \"\"\"\n",
        "                17/06/09 20:10:41 INFO slf4j.Slf4jLogger: Slf4jLogger started\n",
        "                17/06/09 20:10:41 INFO Remoting: Starting remoting\n",
        "                17/06/09 20:10:41 INFO Remoting: Remoting started; listening on addresses :[akka.tcp://sparkExecutorActorSystem@mesos-slave-07:55904]\n",
        "                17/06/09 20:10:41 INFO util.Utils: Successfully started service 'sparkExecutorActorSystem' on port 55904.\n",
        "              \"\"\"\n",
        "additional_requirement = \"\"\"\n",
        "                      - It should not use regex to find the given line\n",
        "                      - the solution should be scalable and should scale linearly with additional data\n",
        "                      - the output should print a flag and port number both.\n",
        "                      - All the variable should be properly in scope and should be decalred only once.\n",
        "                      - The varibles should have scope to be called in the main() function.\n",
        "                      - The code should be easy to read and maintain\n",
        "                      - The code should have proper typehints and comments\n",
        "                      \"\"\"\n",
        "\n",
        "prefix = f\"\"\"\n",
        "        Prompt 1: What is the problem we are trying to solve?\n",
        "\n",
        "        Identify the status of the sparkExecutorActorSystem service in network log and output True or False along with the port, if True.\n",
        "\n",
        "        Prompt 2: What is the language you want to use to solve this problem?\n",
        "        {language}\n",
        "\n",
        "        Prompt 3: What are the inputs and outputs of the function?\n",
        "\n",
        "        Input: Network log\n",
        "        Output: Boolean value indicating the status of the sparkExecutorActorSystem service and the port, if True\n",
        "\n",
        "        Prompt 4: What are the steps involved in identifying the status of the sparkExecutorActorSystem service in network log?\n",
        "\n",
        "        Split the network log into lines.\n",
        "        Iterate over the lines and search for the line that contains the following string: Successfully started service 'sparkExecutorActorSystem' on port.\n",
        "        If the line is found, extract the port number and save it in the variable\n",
        "        Make sure the varibles are scoped to be called in the main() function.\n",
        "        If the line is not found,\n",
        "        Return True along with the port number variable.\n",
        "        Otherwise, return False.\n",
        "        call the function passing the sample input\n",
        "        Prompt 5: What is the sample input that can be tested as a test use case?\n",
        "        {sample_input}\n",
        "\n",
        "        prompt 6: Any additional expectation from the code logic?\n",
        "        {additional_requirement}\n",
        "\n",
        "        Prompt 7: Write the code for the scenario keeping additional expectation and expected language while generation along with the test case.\n",
        "\n",
        "        \"\"\"\n",
        "response = code_generation_model.predict(prefix=prefix)\n",
        "\n",
        "print(response.text)"
      ],
      "metadata": {
        "colab": {
          "base_uri": "https://localhost:8080/"
        },
        "id": "y-85asBEJBsA",
        "outputId": "087ee4f9-6321-48a4-d7fa-50edc9352dde"
      },
      "execution_count": null,
      "outputs": [
        {
          "output_type": "stream",
          "name": "stdout",
          "text": [
            "```c++\n",
            "#include <iostream>\n",
            "#include <string>\n",
            "#include <vector>\n",
            "\n",
            "using namespace std;\n",
            "\n",
            "// Function to identify the status of the sparkExecutorActorSystem service in network log\n",
            "bool identifySparkExecutorActorSystemStatus(string networkLog) {\n",
            "  // Split the network log into lines\n",
            "  vector<string> lines;\n",
            "  size_t pos = 0;\n",
            "  while ((pos = networkLog.find(\"\\n\")) != string::npos) {\n",
            "    lines.push_back(networkLog.substr(0, pos));\n",
            "    networkLog.erase(0, pos + 1);\n",
            "  }\n",
            "  lines.push_back(networkLog);\n",
            "\n",
            "  // Iterate over the lines and search for the line that contains the following string: Successfully started service 'sparkExecutorActorSystem' on port.\n",
            "  int port = -1;\n",
            "  for (string line : lines) {\n",
            "    if (line.find(\"Successfully started service 'sparkExecutorActorSystem' on port \") != string::npos) {\n",
            "      // Extract the port number and save it in the variable\n",
            "      port = stoi(line.substr(line.find(\"port \") + 5));\n",
            "      break;\n",
            "    }\n",
            "  }\n",
            "\n",
            "  // Return True along with the port number, if True\n",
            "  if (port != -1) {\n",
            "    cout << \"True \" << port << endl;\n",
            "    return true;\n",
            "  }\n",
            "\n",
            "  // Otherwise, return False\n",
            "  cout << \"False\" << endl;\n",
            "  return false;\n",
            "}\n",
            "\n",
            "int main() {\n",
            "  // Sample input\n",
            "  string networkLog =\n",
            "      \"17/06/09 20:10:41 INFO slf4j.Slf4jLogger: Slf4jLogger started\\n\"\n",
            "      \"17/06/09 20:10:41 INFO Remoting: Starting remoting\\n\"\n",
            "      \"17/06/09 20:10:41 INFO Remoting: Remoting started; listening on addresses :[akka.tcp://sparkExecutorActorSystem@mesos-slave-07:55904]\\n\"\n",
            "      \"17/06/09 20:10:41 INFO util.Utils: Successfully started service 'sparkExecutorActorSystem' on port 55904.\";\n",
            "\n",
            "  // Call the function passing the sample input\n",
            "  identifySparkExecutorActorSystemStatus(networkLog);\n",
            "\n",
            "  return 0;\n",
            "}\n",
            "```\n"
          ]
        }
      ]
    },
    {
      "cell_type": "markdown",
      "source": [
        "#### Java"
      ],
      "metadata": {
        "id": "xo0CoiO1M9L1"
      }
    },
    {
      "cell_type": "code",
      "source": [
        "prefix = \"\"\"\n",
        "        q: What is the input to the function?\n",
        "        a: The input to the function is a string.\n",
        "\n",
        "        q: What is the output of the function?\n",
        "        a: The output of the function is a reversed string.\n",
        "\n",
        "        q: What are the steps involved in reversing a string?\n",
        "        a: 1) Iterate over the string from the back.\n",
        "            2) Add each character to a new string in reverse order.\n",
        "            3) Return the new string.\n",
        "\n",
        "        q: Write pseudocode for the function.\n",
        "        a: function reverse_string(string):\n",
        "              new_string = \"\"\n",
        "              for i in range(len(string) - 1, -1, -1):\n",
        "                  new_string += string[i]\n",
        "              return new_string\n",
        "\n",
        "        q: how would you test the function?\n",
        "        a: the input \"hello\" should return \"olleh\"\n",
        "\n",
        "        q: write java code for the function follwing all the question-answer pairs.\n",
        "        \"\"\"\n",
        "response = code_generation_model.predict(prefix=prefix,max_output_tokens=2048)\n",
        "\n",
        "print(response.text)"
      ],
      "metadata": {
        "colab": {
          "base_uri": "https://localhost:8080/"
        },
        "id": "JDh9uOpYMf4S",
        "outputId": "de177104-fe23-4444-f25c-5cc14e9a9e25"
      },
      "execution_count": null,
      "outputs": [
        {
          "output_type": "stream",
          "name": "stdout",
          "text": [
            "```java\n",
            "import java.util.Scanner;\n",
            "\n",
            "public class ReverseString {\n",
            "\n",
            "    public static void main(String[] args) {\n",
            "        Scanner scanner = new Scanner(System.in);\n",
            "\n",
            "        System.out.println(\"Enter a string: \");\n",
            "        String input = scanner.nextLine();\n",
            "\n",
            "        String reversedString = reverseString(input);\n",
            "\n",
            "        System.out.println(\"Reversed string: \" + reversedString);\n",
            "    }\n",
            "\n",
            "    public static String reverseString(String string) {\n",
            "        String reversedString = \"\";\n",
            "\n",
            "        for (int i = string.length() - 1; i >= 0; i--) {\n",
            "            reversedString += string.charAt(i);\n",
            "        }\n",
            "\n",
            "        return reversedString;\n",
            "    }\n",
            "}\n",
            "```\n"
          ]
        }
      ]
    },
    {
      "cell_type": "markdown",
      "source": [
        "### Few-shot with User-jounrey and Pseudo/Starter Code"
      ],
      "metadata": {
        "id": "M6Ly_o7RcgeU"
      }
    },
    {
      "cell_type": "markdown",
      "source": [
        "#### Kotlin"
      ],
      "metadata": {
        "id": "J3vT9XCorXnN"
      }
    },
    {
      "cell_type": "code",
      "source": [
        "user_journey = \"\"\"\n",
        "              A Kotlin developer is working on a new Android app.\n",
        "              They need to implement a feature that allows users to search for nearby restaurants.\n",
        "              \"\"\"\n",
        "sample_input = \"\"\"\n",
        "              A list of restaurants and a search query:\n",
        "              val restaurants = listOf(\n",
        "                                Restaurant(\"The Grill\", \"123 Main Street\", cuisine = \"American\"),\n",
        "                                Restaurant(\"Thai Paradise\", \"456 Elm Street\", cuisine = \"Thai\"),\n",
        "                                Restaurant(\"Little Italy\", \"789 Pine Street\", cuisine = \"Italian\"),\n",
        "                              )\n",
        "\n",
        "              val searchQuery = \"Italian\"\n",
        "\n",
        "              \"\"\"\n",
        "sample_output = \"\"\"\n",
        "          A list of restaurants that match the search query:\n",
        "          val matchingRestaurants = listOf(\n",
        "              Restaurant(\"Little Italy\", \"789 Pine Street\", cuisine = \"Italian\"),\n",
        "            )\n",
        "          \"\"\"\n",
        "language = \"Kotlin\"\n",
        "problem_statement = f\"\"\"a {language} function that takes a list of restaurants and a search query as input and returns  \\\n",
        "                        list of restaurants that match the search query. The search query can be a substring of the restaurant name, \\\n",
        "                        address, or cuisine type.\n",
        "                    \"\"\"\n",
        "additional_requirement = \"\"\"\n",
        "                     - The function should be efficient and scalable.\n",
        "                     - The function should be easy to read and maintain.\n",
        "                      \"\"\"\n",
        "prefix = f\"\"\"\n",
        "        Write {problem_statement}. \\n\n",
        "        Also add example use case that take {sample_input} and {sample_output} calling the function generated.\n",
        "        Here are some additional requirement for the function: {additional_requirement}.\n",
        "        \"\"\"\n",
        "response = code_generation_model.predict(prefix=prefix)\n",
        "\n",
        "print(response.text)\n"
      ],
      "metadata": {
        "colab": {
          "base_uri": "https://localhost:8080/"
        },
        "id": "xfH4a--xrX-Y",
        "outputId": "5ecb6c30-6bc6-43aa-bbf3-27245f0b7339"
      },
      "execution_count": null,
      "outputs": [
        {
          "output_type": "stream",
          "name": "stdout",
          "text": [
            "```kotlin\n",
            "// Function to search for restaurants that match a given query.\n",
            "fun findMatchingRestaurants(restaurants: List<Restaurant>, searchQuery: String): List<Restaurant> {\n",
            "    // Convert the search query to lowercase for case-insensitive matching.\n",
            "    val lowercaseQuery = searchQuery.toLowerCase()\n",
            "\n",
            "    // Filter the list of restaurants by those whose name, address, or cuisine type contains the search query.\n",
            "    val matchingRestaurants = restaurants.filter { restaurant ->\n",
            "        restaurant.name.toLowerCase().contains(lowercaseQuery) ||\n",
            "                restaurant.address.toLowerCase().contains(lowercaseQuery) ||\n",
            "                restaurant.cuisineType.toLowerCase().contains(lowercaseQuery)\n",
            "    }\n",
            "\n",
            "    // Return the list of matching restaurants.\n",
            "    return matchingRestaurants\n",
            "}\n",
            "\n",
            "// Example use case.\n",
            "val restaurants = listOf(\n",
            "    Restaurant(\"The Grill\", \"123 Main Street\", cuisine = \"American\"),\n",
            "    Restaurant(\"Thai Paradise\", \"456 Elm Street\", cuisine = \"Thai\"),\n",
            "    Restaurant(\"Little Italy\", \"789 Pine Street\", cuisine = \"Italian\"),\n",
            ")\n",
            "\n",
            "val searchQuery = \"Italian\"\n",
            "\n",
            "val matchingRestaurants = findMatchingRestaurants(restaurants, searchQuery)\n",
            "\n",
            "println(matchingRestaurants) // prints [Restaurant(name=Little Italy, address=789 Pine Street, cuisineType=Italian)]\n",
            "```\n"
          ]
        }
      ]
    },
    {
      "cell_type": "markdown",
      "source": [
        "#### Rust"
      ],
      "metadata": {
        "id": "Hkf9gqfUweTY"
      }
    },
    {
      "cell_type": "code",
      "source": [
        "real_world_case = \"\"\"You are a software engineer at a company that develops trading software.\n",
        "                     You need to write a Rust program to calculate the moving average of a stock price over a given period of time.\"\"\"\n",
        "problem_statement = f\"\"\"The program should take two inputs:\n",
        "                        A vector of stock prices.\n",
        "                        The period over which to calculate the moving average.\n",
        "                        The program should output the moving average of the stock price over the given period.\n",
        "                    \"\"\"\n",
        "code_style = \"Idiomatic Rust\"\n",
        "algorithmic_complexity = \"O(n)\"\n",
        "pseudocode = \"\"\"\n",
        "              1) Initialize a variable to store the moving average.\n",
        "              2) Iterate over the vector of stock prices, adding each price to the moving average.\n",
        "              3) Divide the moving average by the period to get the average price over the given period.\n",
        "              4) Return the moving average price.\n",
        "             \"\"\"\n",
        "test_cases = \"\"\"\n",
        "            // Test case 1\n",
        "            let stock_prices = vec![100, 110, 120, 130, 140];\n",
        "            let period = 3;\n",
        "\n",
        "            let moving_average = calculate_moving_average(&stock_prices, period);\n",
        "\n",
        "            assert_eq!(moving_average, 200.0);\n",
        "\n",
        "            \"\"\"\n",
        "sample_input = \"[500, 100, 300, 450, 120]\"\n",
        "prefix = f\"\"\"Write a Rust program based on a {real_world_case} .\n",
        "             The problem statement that needs to be addressed is {problem_statement} .\n",
        "             You can use this pseudocode as an example to generate the code step by step:  {pseudocode} .\n",
        "             Add an example to call the generated function in main() {sample_input}\n",
        "             It should follow the code style pattern as {code_style} and should have {algorithmic_complexity} as algorithmic complexity.\n",
        "             Make sure that the code generated passes the following test cases: {test_cases}\n",
        "             \"\"\"\n",
        "response = code_generation_model.predict(prefix=prefix,\n",
        "                                         max_output_tokens=2000,\n",
        "                                         temperature=0.2)\n",
        "\n",
        "print(response.text)"
      ],
      "metadata": {
        "colab": {
          "base_uri": "https://localhost:8080/"
        },
        "id": "gmzqFsnOf_Cq",
        "outputId": "098269b2-3b59-4542-b0a4-317f057451be"
      },
      "execution_count": null,
      "outputs": [
        {
          "output_type": "stream",
          "name": "stdout",
          "text": [
            "```rust\n",
            "fn calculate_moving_average(stock_prices: &[f64], period: usize) -> f64 {\n",
            "    let mut moving_average = 0.0;\n",
            "\n",
            "    for price in stock_prices {\n",
            "        moving_average += price;\n",
            "    }\n",
            "\n",
            "    moving_average / period as f64\n",
            "}\n",
            "\n",
            "fn main() {\n",
            "    let stock_prices = vec![500.0, 100.0, 300.0, 450.0, 120.0];\n",
            "    let period = 3;\n",
            "\n",
            "    let moving_average = calculate_moving_average(&stock_prices, period);\n",
            "\n",
            "    println!(\"Moving average: {}\", moving_average);\n",
            "}\n",
            "```\n"
          ]
        }
      ]
    },
    {
      "cell_type": "markdown",
      "source": [
        "#### Scala"
      ],
      "metadata": {
        "id": "GinhyCUizbDe"
      }
    },
    {
      "cell_type": "code",
      "source": [
        "persona = \"\"\"You are a Scala developer working on a backend service for an e-commerce platform. \"\"\"\n",
        "goal = \"\"\"Your task is to generate Scala code for a data model representing products in the platform's catalog.\n",
        "          The product data model should include information such as product ID, name, price, and availability.\n",
        "       \"\"\"\n",
        "user_journey = \"\"\"\n",
        "              As a developer, your day-to-day tasks often involve designing data models to represent various entities in your application.\n",
        "              In this scenario, you are tasked with creating a Scala case class for the product data model and a companion object with utility methods.\n",
        "              \"\"\"\n",
        "requirements = \"\"\"\n",
        "            1. Create a Scala case class named `Product` with the following fields:\n",
        "                - `id` (String)\n",
        "                - `name` (String)\n",
        "                - `price` (Double)\n",
        "                - `available` (Boolean)\n",
        "\n",
        "            2. Implement a companion object for the `Product` case class with the following methods:\n",
        "                - `create` method that takes parameters for ID, name, price, and availability and returns an instance of the `Product` case class.\n",
        "                - `format` method that takes a `Product` instance and returns a formatted string representation of the product.\n",
        "\n",
        "            3. Ensure that the `create` method sets the availability to `true` by default if not provided.\n",
        "              \"\"\"\n",
        "code_structure = \"\"\"\n",
        "                You have been provided with a starter code structure. Your task is to complete the code to meet the above requirements. The input code structure is as follows:\n",
        "\n",
        "                ```scala\n",
        "                // Starter code\n",
        "                case class Product(id: String, name: String, price: Double, available: Boolean)\n",
        "\n",
        "                object Product {\n",
        "                  // Your generated Scala code for the companion object goes here\n",
        "                }\n",
        "\n",
        "                object Main extends App {\n",
        "                  // Your test cases go here\n",
        "                }\n",
        "                \"\"\"\n",
        "\n",
        "prefix = f\"\"\"{persona} {goal} {user_journey} {requirements} {code_structure} \"\"\"\n",
        "response = code_generation_model.predict(prefix=prefix,\n",
        "                                         max_output_tokens=2000,\n",
        "                                         temperature=0.2)\n",
        "\n",
        "print(response.text)\n"
      ],
      "metadata": {
        "colab": {
          "base_uri": "https://localhost:8080/"
        },
        "id": "VvKRnkyPzld6",
        "outputId": "af01dd3e-1953-4647-e2c6-68436db1c5d1"
      },
      "execution_count": null,
      "outputs": [
        {
          "output_type": "stream",
          "name": "stdout",
          "text": [
            "```scala\n",
            "// Starter code\n",
            "case class Product(id: String, name: String, price: Double, available: Boolean)\n",
            "\n",
            "object Product {\n",
            "  // Your generated Scala code for the companion object goes here\n",
            "  def create(id: String, name: String, price: Double, available: Boolean = true): Product =\n",
            "    Product(id, name, price, available)\n",
            "\n",
            "  def format(product: Product): String =\n",
            "    s\"Product(id=${product.id}, name=${product.name}, price=${product.price}, available=${product.available})\"\n",
            "}\n",
            "\n",
            "object Main extends App {\n",
            "  // Your test cases go here\n",
            "  val product1 = Product.create(\"P1\", \"iPhone 13\", 999.99)\n",
            "  val product2 = Product.create(\"P2\", \"Samsung Galaxy S22\", 849.99, false)\n",
            "\n",
            "  println(Product.format(product1))\n",
            "  println(Product.format(product2))\n",
            "}\n",
            "```\n"
          ]
        }
      ]
    },
    {
      "cell_type": "markdown",
      "source": [
        "#### Shell Script"
      ],
      "metadata": {
        "id": "YsFg9jaE15fR"
      }
    },
    {
      "cell_type": "code",
      "source": [
        "persona = \"\"\"\n",
        "          Imagine you are a system administrator responsible for managing a Linux server environment.\n",
        "          Your daily tasks often involve creating shell scripts to automate various system maintenance and monitoring tasks.\n",
        "          In this scenario, you are tasked with generating a shell script to automate a common backup task.\n",
        "          \"\"\"\n",
        "user_journey = \"\"\"\n",
        "          As a system administrator, you frequently need to create backup scripts to ensure data integrity and disaster recovery.\n",
        "          Your goal is to generate a simple shell script that backs up a specified directory to a target backup location using the `rsync` command.\n",
        "              \"\"\"\n",
        "requriements = \"\"\"\n",
        "          1. Create a shell script named `backup.sh` that takes two command-line arguments:\n",
        "            - Source directory: The directory to be backed up.\n",
        "            - Target directory: The directory where the backup should be stored.\n",
        "\n",
        "          2. The script should use the `rsync` command to perform the backup. The `rsync` command should:\n",
        "            - Synchronize the contents of the source directory to the target directory.\n",
        "            - Preserve file permissions and timestamps.\n",
        "            - Display progress information during the backup.\n",
        "\n",
        "          3. Add comments to the script to explain its purpose and usage.\n",
        "              \"\"\"\n",
        "starter_code = \"\"\"\n",
        "          You have been provided with a starter code structure.\n",
        "          Your task is to complete the code to meet the above requirements.\n",
        "          The input code structure is as follows:\n",
        "\n",
        "          ```bash\n",
        "          #!/bin/bash\n",
        "\n",
        "          # Your generated Shell script code goes here\n",
        "          \"\"\"\n",
        "\n",
        "prefix = f\"\"\"{persona} {user_journey} {requriements} {starter_code} \"\"\"\n",
        "response = code_generation_model.predict(prefix=prefix,\n",
        "                                         max_output_tokens=2000,\n",
        "                                        )\n",
        "\n",
        "print(response.text)"
      ],
      "metadata": {
        "colab": {
          "base_uri": "https://localhost:8080/"
        },
        "id": "uugt4kNs2Cjp",
        "outputId": "5cd4e031-3441-4ed5-ea99-41314d1258b1"
      },
      "execution_count": null,
      "outputs": [
        {
          "output_type": "stream",
          "name": "stdout",
          "text": [
            "```#!/bin/bash\n",
            "\n",
            "          # This script backs up a specified directory to a target backup location using the rsync command.\n",
            "\n",
            "          # Get the source and target directories from the command line.\n",
            "          source_dir=$1\n",
            "          target_dir=$2\n",
            "\n",
            "          # Check if the source directory exists.\n",
            "          if [ ! -d \"$source_dir\" ]; then\n",
            "            echo \"Error: Source directory does not exist.\"\n",
            "            exit 1\n",
            "          fi\n",
            "\n",
            "          # Check if the target directory exists. If not, create it.\n",
            "          if [ ! -d \"$target_dir\" ]; then\n",
            "            mkdir -p \"$target_dir\"\n",
            "          fi\n",
            "\n",
            "          # Perform the backup using rsync.\n",
            "          rsync -avz --progress \"$source_dir/\" \"$target_dir/\"\n",
            "\n",
            "          # Print a completion message.\n",
            "          echo \"Backup complete.\"\n",
            "          ```\n"
          ]
        }
      ]
    },
    {
      "cell_type": "markdown",
      "source": [
        "#### Solidity [BlockChain]"
      ],
      "metadata": {
        "id": "nrxZJs7OHuVF"
      }
    },
    {
      "cell_type": "code",
      "source": [
        "input = \"\"\"\n",
        "         - The address of the user withdrawing the tokens\n",
        "         - The amount of tokens being withdrawn\n",
        "         \"\"\"\n",
        "return_output = \"\"\"\n",
        "         - A boolean value indicating whether the withdrawal was successful\n",
        "         \"\"\"\n",
        "requirements = \"\"\"\n",
        "          - The code should be written in Solidity using the latest best practices.\n",
        "          - algorithm should be O(1) time complexity.\n",
        "          \"\"\"\n",
        "\n",
        "\n",
        "prefix = f\"\"\"\n",
        "         Generate a Solidity function called withdraw() that allows users to withdraw tokens from a decentralized exchange (DEX).\n",
        "         The function should take the following inputs: {input} and should return: {return_output}.\n",
        "         The function should also meet the following requirements: {requirements}\n",
        "         \"\"\"\n",
        "response = code_generation_model.predict(prefix=prefix,\n",
        "                                         max_output_tokens=2000,\n",
        "                                         temperature=0.2)\n",
        "\n",
        "print(response.text)\n"
      ],
      "metadata": {
        "colab": {
          "base_uri": "https://localhost:8080/"
        },
        "id": "raMp35oEIIrw",
        "outputId": "28bbe619-99d1-42bb-a237-5288aa10225a"
      },
      "execution_count": null,
      "outputs": [
        {
          "output_type": "stream",
          "name": "stdout",
          "text": [
            "```solidity\n",
            "// SPDX-License-Identifier: GPL-3.0\n",
            "\n",
            "pragma solidity ^0.8.0;\n",
            "\n",
            "import \"@openzeppelin/contracts/token/ERC20/IERC20.sol\";\n",
            "\n",
            "contract DEX {\n",
            "    IERC20 public token;\n",
            "\n",
            "    mapping(address => uint256) public balances;\n",
            "\n",
            "    constructor(IERC20 _token) {\n",
            "        token = _token;\n",
            "    }\n",
            "\n",
            "    function withdraw(address user, uint256 amount) public returns (bool) {\n",
            "        if (balances[user] < amount) {\n",
            "            return false;\n",
            "        }\n",
            "\n",
            "        balances[user] -= amount;\n",
            "        token.transfer(user, amount);\n",
            "\n",
            "        return true;\n",
            "    }\n",
            "}\n",
            "```\n"
          ]
        }
      ]
    },
    {
      "cell_type": "markdown",
      "source": [
        "#### Verilog"
      ],
      "metadata": {
        "id": "ENUSlJeksY9F"
      }
    },
    {
      "cell_type": "code",
      "source": [
        "prefix = \"\"\"\n",
        "        Generate Verilog code for a 3-bit adder circuit that performs addition of two 3-bit numbers using only D flip-flops.\n",
        "        The circuit should have the following inputs:\n",
        "        a[2:0]\n",
        "        b[2:0]\n",
        "        The circuit should have the following outputs:\n",
        "        sum[2:0]\n",
        "        carry\n",
        "        The circuit should implement the following logic:\n",
        "        The circuit should add the two 3-bit numbers and store the result in the sum output. The carry output should be set to 1 if the addition results in a carry-out, and 0 otherwise.\n",
        "        Constraints:\n",
        "        The circuit must use only D flip-flops.\n",
        "        \"\"\"\n",
        "response = code_generation_model.predict(prefix=prefix)\n",
        "\n",
        "print(response.text)"
      ],
      "metadata": {
        "id": "8dfaF8eNsat0"
      },
      "execution_count": null,
      "outputs": []
    },
    {
      "cell_type": "markdown",
      "source": [
        "### DevOps Templates"
      ],
      "metadata": {
        "id": "xmjVO4pCTorG"
      }
    },
    {
      "cell_type": "markdown",
      "source": [
        "#### Docker"
      ],
      "metadata": {
        "id": "KN0EflgHP75p"
      }
    },
    {
      "cell_type": "code",
      "source": [
        "prefix = \"\"\"\n",
        "        Generate a Dockerfile for a Python application that:\n",
        "          * Builds the image from a python:latest base image\n",
        "          * Exposes the following ports: 8000\n",
        "          * Installs the following dependencies: pip install flask\n",
        "          * Sets the working directory to /app\n",
        "          * Copies the following files to the image: app.py requirements.txt\n",
        "          * Runs the following command on startup: flask run --host=0.0.0.0\n",
        "        \"\"\"\n",
        "response = code_generation_model.predict(prefix=prefix)\n",
        "\n",
        "print(response.text)"
      ],
      "metadata": {
        "colab": {
          "base_uri": "https://localhost:8080/"
        },
        "id": "_BpavsvSP-r9",
        "outputId": "b6165534-8c97-4589-c07f-5fbcdf15f250"
      },
      "execution_count": null,
      "outputs": [
        {
          "output_type": "stream",
          "name": "stdout",
          "text": [
            "```dockerfile\n",
            "FROM python:latest\n",
            "\n",
            "EXPOSE 8000\n",
            "\n",
            "RUN pip install flask\n",
            "\n",
            "WORKDIR /app\n",
            "\n",
            "COPY app.py requirements.txt .\n",
            "\n",
            "CMD [\"flask\", \"run\", \"--host=0.0.0.0\"]\n",
            "```\n"
          ]
        }
      ]
    },
    {
      "cell_type": "markdown",
      "source": [
        "#### Docker Compose"
      ],
      "metadata": {
        "id": "E36RX5VOTsXj"
      }
    },
    {
      "cell_type": "code",
      "source": [
        "prefix = \"\"\"\n",
        "        Generate a Compose file for the following services: web\n",
        "          * Define the following networks: default\n",
        "          * Define the following volumes: ./app:/app\n",
        "          * Define the following environments: FLASK_APP=app.py\n",
        "          * Define the following links: none\n",
        "          * Define the following depends_on relationships: none\n",
        "        \"\"\"\n",
        "response = code_generation_model.predict(prefix=prefix)\n",
        "\n",
        "print(response.text)"
      ],
      "metadata": {
        "colab": {
          "base_uri": "https://localhost:8080/"
        },
        "id": "Dn5JbcwRQKw6",
        "outputId": "ae0fa0e0-3e40-4998-a44f-d360caf06b32"
      },
      "execution_count": null,
      "outputs": [
        {
          "output_type": "stream",
          "name": "stdout",
          "text": [
            "```yaml\n",
            "version: '3'\n",
            "\n",
            "services:\n",
            "  web:\n",
            "    build: .\n",
            "    volumes:\n",
            "      - ./app:/app\n",
            "    environment:\n",
            "      - FLASK_APP=app.py\n",
            "    networks:\n",
            "      - default\n",
            "\n",
            "networks:\n",
            "  default:\n",
            "\n",
            "```\n"
          ]
        }
      ]
    },
    {
      "cell_type": "markdown",
      "source": [
        "#### Jenkins"
      ],
      "metadata": {
        "id": "qPO7MT6cTvMB"
      }
    },
    {
      "cell_type": "code",
      "source": [
        "prefix = \"\"\"\n",
        "        Objective: Generate a Jenkinsfile for a parametrized pipeline for a Java project.\n",
        "        Instructions:\n",
        "        Allow the user to input parameters like \"Environment\" and \"Feature Toggle.\"\n",
        "        Use these parameters in the build and test stages.\n",
        "        Provide default values for parameters.\n",
        "        \"\"\"\n",
        "response = code_generation_model.predict(prefix=prefix)\n",
        "\n",
        "print(response.text)"
      ],
      "metadata": {
        "colab": {
          "base_uri": "https://localhost:8080/"
        },
        "id": "784INw25SnAP",
        "outputId": "78682efc-5089-4ff0-c2a3-6a0aaad2275b"
      },
      "execution_count": null,
      "outputs": [
        {
          "output_type": "stream",
          "name": "stdout",
          "text": [
            "```\n",
            "pipeline {\n",
            "    parameters {\n",
            "        choice(name: 'Environment', choices: ['dev', 'test', 'prod'], description: 'Select the target environment.')\n",
            "        booleanParam(name: 'FeatureToggle', defaultValue: false, description: 'Enable or disable the feature toggle.')\n",
            "    }\n",
            "\n",
            "    stages {\n",
            "        stage('Build') {\n",
            "            steps {\n",
            "                echo \"Building for environment: ${params.Environment}\"\n",
            "                echo \"Feature toggle enabled: ${params.FeatureToggle}\"\n",
            "                sh 'mvn clean package'\n",
            "            }\n",
            "        }\n",
            "\n",
            "        stage('Test') {\n",
            "            steps {\n",
            "                echo \"Testing for environment: ${params.Environment}\"\n",
            "                echo \"Feature toggle enabled: ${params.FeatureToggle}\"\n",
            "                sh 'mvn test'\n",
            "            }\n",
            "        }\n",
            "\n",
            "        stage('Deploy') {\n",
            "            steps {\n",
            "                echo \"Deploying to environment: ${params.Environment}\"\n",
            "                echo \"Feature toggle enabled: ${params.FeatureToggle}\"\n",
            "                sh 'mvn deploy'\n",
            "            }\n",
            "        }\n",
            "    }\n",
            "}\n",
            "```\n"
          ]
        }
      ]
    },
    {
      "cell_type": "markdown",
      "source": [
        "#### YAML"
      ],
      "metadata": {
        "id": "_vqGes_oTxAq"
      }
    },
    {
      "cell_type": "code",
      "source": [
        "prefix = \"\"\"\n",
        "        Generate GitLab CI YAML configuration for a Node.js project.\n",
        "        Instructions:\n",
        "          - Assume the project uses Node.js and has unit tests.\n",
        "          - Include stages for \"Build,\" \"Test,\" and \"Deploy.\"\n",
        "          - Specify Node.js version and test script.\n",
        "          - Use GitLab CI variables for sensitive information.\n",
        "        \"\"\"\n",
        "response = code_generation_model.predict(prefix=prefix)\n",
        "\n",
        "print(response.text)\n"
      ],
      "metadata": {
        "colab": {
          "base_uri": "https://localhost:8080/"
        },
        "id": "brxDiPmeTyiy",
        "outputId": "cb44e7e1-7847-4012-d75e-2e7382adaad2"
      },
      "execution_count": null,
      "outputs": [
        {
          "output_type": "stream",
          "name": "stdout",
          "text": [
            "```YAML\n",
            "stages:\n",
            "  - build\n",
            "  - test\n",
            "  - deploy\n",
            "\n",
            "build:\n",
            "  stage: build\n",
            "  script:\n",
            "    - npm install\n",
            "    - npm run build\n",
            "\n",
            "test:\n",
            "  stage: test\n",
            "  script:\n",
            "    - npm test\n",
            "\n",
            "deploy:\n",
            "  stage: deploy\n",
            "  script:\n",
            "    - echo \"Deploying to production...\"\n",
            "\n",
            "variables:\n",
            "  NODE_VERSION: 16\n",
            "  TEST_SCRIPT: npm test\n",
            "```\n"
          ]
        }
      ]
    },
    {
      "cell_type": "markdown",
      "source": [
        "#### Configurations"
      ],
      "metadata": {
        "id": "AZ_wYBuIUDTP"
      }
    },
    {
      "cell_type": "code",
      "source": [
        "prefix = \"\"\"\n",
        "         Generate YAML configurations for Prometheus to monitor a containerized application.\n",
        "          Instructions:\n",
        "            - Specify the job for scraping metrics.\n",
        "            - Include targets, labels, and metric relabeling as needed.\n",
        "            - Set up alerting rules for key metrics.\n",
        "        \"\"\"\n",
        "response = code_generation_model.predict(prefix=prefix)\n",
        "\n",
        "print(response.text)\n"
      ],
      "metadata": {
        "colab": {
          "base_uri": "https://localhost:8080/"
        },
        "id": "tVcJWpPxUF2Q",
        "outputId": "31d107c7-2672-4643-df06-8d2943f8cddf"
      },
      "execution_count": null,
      "outputs": [
        {
          "output_type": "stream",
          "name": "stdout",
          "text": [
            "```YAML\n",
            "# Prometheus configuration file for monitoring a containerized application\n",
            "\n",
            "global:\n",
            "  scrape_interval: 15s\n",
            "\n",
            "scrape_configs:\n",
            "  - job_name: 'my-app'\n",
            "    static_configs:\n",
            "      - targets: ['localhost:9090']\n",
            "    relabel_configs:\n",
            "      - source_labels: [__meta_kubernetes_pod_container_name]\n",
            "        target_label: container_name\n",
            "      - source_labels: [__meta_kubernetes_pod_name]\n",
            "        target_label: pod_name\n",
            "      - source_labels: [__meta_kubernetes_namespace]\n",
            "        target_label: namespace\n",
            "\n",
            "alerting:\n",
            "  alertmanagers:\n",
            "    - static_configs:\n",
            "        - targets:\n",
            "          - localhost:9093\n",
            "\n",
            "  rules:\n",
            "    - alert: MyAlert\n",
            "      expr: container_cpu_usage > 0.9\n",
            "      for: 1m\n",
            "      labels:\n",
            "        severity: high\n",
            "      annotations:\n",
            "        summary: \"High CPU usage\"\n",
            "        description: \"The CPU usage of the container is above 90% for 1 minute.\"\n",
            "\n",
            "```\n"
          ]
        }
      ]
    },
    {
      "cell_type": "markdown",
      "source": [
        "### Web Templates"
      ],
      "metadata": {
        "id": "SeneD9LlrpaN"
      }
    },
    {
      "cell_type": "markdown",
      "source": [
        "#### HTML"
      ],
      "metadata": {
        "id": "HfB5_zSersVw"
      }
    },
    {
      "cell_type": "code",
      "source": [
        "prefix = \"\"\"write a html code for a simple page:\n",
        "            - Has a button \"click me\" and it shows how many time user has hit that button as its counter.\n",
        "            - Add style element that has page header as \"My Page Counter Demo\" in brown color\n",
        "            - Everything should be displayed as 'center'.\n",
        "            - The counter button should be blue by default and when clicked it should be red.\n",
        "            - The counter value should be in green color.\n",
        "            - The bottom of the page should display this message \"Codey Generated this page\" in bold and big font.\n",
        "\"\"\"\n",
        "response = code_generation_model.predict(prefix=prefix)\n",
        "\n",
        "print(response.text)"
      ],
      "metadata": {
        "colab": {
          "base_uri": "https://localhost:8080/"
        },
        "id": "Jj_d4IcLXzcZ",
        "outputId": "1f831fb0-9119-46b2-f1c5-74107f8c01bd"
      },
      "execution_count": null,
      "outputs": [
        {
          "output_type": "stream",
          "name": "stdout",
          "text": [
            "```html\n",
            "<!DOCTYPE html>\n",
            "<html>\n",
            "<head>\n",
            "  <title>My Page Counter Demo</title>\n",
            "  <style>\n",
            "    body {\n",
            "      text-align: center;\n",
            "    }\n",
            "\n",
            "    h1 {\n",
            "      color: brown;\n",
            "    }\n",
            "\n",
            "    button {\n",
            "      background-color: blue;\n",
            "      color: white;\n",
            "      padding: 10px 15px;\n",
            "      border-radius: 5px;\n",
            "      cursor: pointer;\n",
            "    }\n",
            "\n",
            "    button:hover {\n",
            "      background-color: red;\n",
            "    }\n",
            "\n",
            "    #counter {\n",
            "      color: green;\n",
            "      font-size: 20px;\n",
            "    }\n",
            "\n",
            "    footer {\n",
            "      font-weight: bold;\n",
            "      font-size: 24px;\n",
            "    }\n",
            "  </style>\n",
            "</head>\n",
            "<body>\n",
            "  <h1>My Page Counter Demo</h1>\n",
            "  <button id=\"click-me\">Click Me</button>\n",
            "  <p id=\"counter\">0</p>\n",
            "  <footer>Codey Generated this page</footer>\n",
            "\n",
            "  <script>\n",
            "    const button = document.getElementById('click-me');\n",
            "    const counter = document.getElementById('counter');\n",
            "\n",
            "    let count = 0;\n",
            "\n",
            "    button.addEventListener('click', () => {\n",
            "      count++;\n",
            "      counter.innerHTML = count;\n",
            "      button.style.backgroundColor = 'red';\n",
            "    });\n",
            "  </script>\n",
            "</body>\n",
            "</html>\n",
            "```\n"
          ]
        }
      ]
    },
    {
      "cell_type": "code",
      "source": [
        "prefix = \"\"\"\n",
        "        Generate a responsive HTML code for a landing page of a new e-commerce website that sells clothes. The landing page should have the following sections:\n",
        "         - A header with a logo, a navigation bar, and a search bar.\n",
        "         - A hero section with a large image of a model wearing clothes from the website and a call to action button.\n",
        "         - A featured products section with a grid of images of the best-selling products on the website.\n",
        "         - A testimonial section with quotes from satisfied customers.\n",
        "         - A footer with contact information and social media links.\n",
        "       \"\"\"\n",
        "response = code_generation_model.predict(prefix=prefix)\n",
        "\n",
        "print(response.text)\n"
      ],
      "metadata": {
        "colab": {
          "base_uri": "https://localhost:8080/"
        },
        "id": "VPPXyk6hu3kI",
        "outputId": "3d6873fb-b87b-4cc0-f424-2883841a3c45"
      },
      "execution_count": null,
      "outputs": [
        {
          "output_type": "stream",
          "name": "stdout",
          "text": [
            "```html\n",
            "<!DOCTYPE html>\n",
            "<html lang=\"en\">\n",
            "<head>\n",
            "  <meta charset=\"UTF-8\">\n",
            "  <meta name=\"viewport\" content=\"width=device-width, initial-scale=1.0\">\n",
            "  <title>E-commerce Website Landing Page</title>\n",
            "  <link rel=\"stylesheet\" href=\"style.css\">\n",
            "</head>\n",
            "<body>\n",
            "  <header>\n",
            "    <div class=\"container\">\n",
            "      <div class=\"logo\">\n",
            "        <img src=\"logo.png\" alt=\"Logo\">\n",
            "      </div>\n",
            "      <nav>\n",
            "        <ul>\n",
            "          <li><a href=\"#\">Home</a></li>\n",
            "          <li><a href=\"#\">Shop</a></li>\n",
            "          <li><a href=\"#\">About Us</a></li>\n",
            "          <li><a href=\"#\">Contact Us</a></li>\n",
            "        </ul>\n",
            "      </nav>\n",
            "      <div class=\"search-bar\">\n",
            "        <form action=\"#\">\n",
            "          <input type=\"text\" placeholder=\"Search\">\n",
            "          <button type=\"submit\"><i class=\"fas fa-search\"></i></button>\n",
            "        </form>\n",
            "      </div>\n",
            "    </div>\n",
            "  </header>\n",
            "\n",
            "  <section class=\"hero\">\n",
            "    <div class=\"container\">\n",
            "      <div class=\"hero-text\">\n",
            "        <h1>New Arrivals</h1>\n",
            "        <p>Shop the latest styles from our new collection.</p>\n",
            "        <a href=\"#\" class=\"btn\">Shop Now</a>\n",
            "      </div>\n",
            "      <div class=\"hero-image\">\n",
            "        <img src=\"hero-image.jpg\" alt=\"Hero Image\">\n",
            "      </div>\n",
            "    </div>\n",
            "  </section>\n",
            "\n",
            "  <section class=\"featured-products\">\n",
            "    <div class=\"container\">\n",
            "      <h2>Featured Products</h2>\n",
            "      <div class=\"product-grid\">\n",
            "        <div class=\"product\">\n",
            "          <img src=\"product-1.jpg\" alt=\"Product 1\">\n",
            "          <div class=\"product-info\">\n",
            "            <h4>Product 1</h4>\n",
            "            <p>$19.99</p>\n",
            "            <a href=\"#\" class=\"btn\">Add to Cart</a>\n",
            "          </div>\n",
            "        </div>\n",
            "        <div class=\"product\">\n",
            "          <img src=\"product-2.jpg\" alt=\"Product 2\">\n",
            "          <div class=\"product-info\">\n",
            "            <h4>Product 2</h4>\n",
            "            <p>$29.99</p>\n",
            "            <a href=\"#\" class=\"btn\">Add to Cart</a>\n",
            "          </div>\n",
            "        </div>\n",
            "        <div class=\"product\">\n",
            "          <img src=\"product-3.jpg\" alt=\"Product 3\">\n",
            "          <div class=\"product-info\">\n",
            "            <h4>Product 3</h4>\n",
            "            <p>$39.99</p>\n",
            "            <a href=\"#\" class=\"btn\">Add to Cart</a>\n",
            "          </div>\n",
            "        </div>\n",
            "        <div class=\"product\">\n",
            "          <img src=\"product-4.jpg\" alt=\"Product 4\">\n",
            "          <div class=\"product-info\">\n",
            "            <h4>Product 4</h4>\n",
            "            <p>$49.99</p>\n",
            "            <a href=\"#\" class=\"btn\">Add to Cart</a>\n",
            "          </div>\n",
            "        </div>\n",
            "      </div>\n",
            "    </div>\n",
            "  </section>\n",
            "\n",
            "  <section class=\"testimonials\">\n",
            "    <div class=\"container\">\n",
            "      <h2>Testimonials</h2>\n",
            "      <div class=\"testimonial-grid\">\n",
            "        <div class=\"testimonial\">\n",
            "          <p>\"I love the clothes from this website. They're so stylish and affordable.\"</p>\n",
            "          <div class=\"testimonial-author\">\n",
            "            <img src=\"testimonial-author-1.jpg\" alt=\"Testimonial Author 1\">\n",
            "            <h4>Jane Doe</h4>\n",
            "          </div>\n",
            "        </div>\n",
            "        <div class=\"testimonial\">\n",
            "          <p>\"I've ordered from this website several times and I've always been happy with the products and service.\"</p>\n",
            "          <div class=\"testimonial-author\">\n",
            "            <img src=\"testimonial-author-2.jpg\" alt=\"Testimonial Author 2\">\n",
            "            <h4>John Smith</h4>\n",
            "          </div>\n",
            "        </div>\n",
            "        <div class=\"testimonial\">\n",
            "          <p>\"This website is my go-to for all my clothing needs. They have a great selection and the prices are unbeatable.\"</p>\n",
            "          <div class=\"testimonial-author\">\n",
            "            <img src=\"testimonial-author-3.jpg\" alt=\"Testimonial Author 3\n"
          ]
        }
      ]
    },
    {
      "cell_type": "markdown",
      "source": [
        "## Best Practices"
      ],
      "metadata": {
        "id": "0qRKW7UrPCxh"
      }
    },
    {
      "cell_type": "markdown",
      "source": [
        "### How to write effective code generation prompts\n",
        "\n",
        "When writing code generation prompts, it is important to be as clear and specific as possible. The more information you can provide to the model, the better it will be able to understand your intent and generate the desired code.\n",
        "\n",
        "Here are some tips for writing effective code generation prompts:\n",
        "\n",
        "* Start with a clear and concise description of the task you want the model to perform. For example, instead of saying \"Generate a function to sort a list of numbers,\" you could say \"Generate a Python function to sort a list of integers in ascending order.\"\n",
        "\n",
        "* Provide examples of the desired input and output. This will help the model to understand the format of the data and the expected output. For example, you could provide a list of unsorted numbers and the corresponding sorted list.\n",
        "\n",
        "* Use natural language to describe the task. The model is trained on a massive dataset of text and code, so it is able to understand natural language prompts. For example, you could say \"Generate a function to reverse a string in Python.\""
      ],
      "metadata": {
        "id": "1BRWXLPXPN4v"
      }
    },
    {
      "cell_type": "markdown",
      "source": [
        "### How to choose the right temperature and max output tokens\n",
        "\n",
        "The temperature parameter controls the randomness of the model's output. A higher temperature will result in more creative and varied output, but it may also be less accurate. A lower temperature will result in more accurate output, but it may also be less creative.\n",
        "\n",
        "The max output tokens parameter controls the maximum number of tokens that the model will generate. This is useful for limiting the length of the output code or preventing the model from generating infinite loops.\n",
        "\n",
        "Here are some tips for choosing the right temperature and max output tokens:\n",
        "\n",
        "* Use a lower temperature for tasks that require high accuracy, such as generating code for machine learning models.\n",
        "\n",
        "* Use a higher temperature for tasks that require creativity, such as generating code for web applications or games.\n",
        "\n",
        "* Use a max output tokens parameter to limit the length of the output code or prevent the model from generating infinite loops.\n"
      ],
      "metadata": {
        "id": "aKMdcftDPZq4"
      }
    },
    {
      "cell_type": "markdown",
      "source": [
        "How to interpret and use code generation suggestions\n",
        "\n",
        "The code generation suggestions generated by the model are not always perfect. It is important to review the generated code carefully and make any necessary changes.\n",
        "\n",
        "Here are some tips for interpreting and using code generation suggestions:\n",
        "\n",
        "* Check the output code for any syntax errors.\n",
        "* Make sure that the output code is consistent with your coding standards.\n",
        "* Test the output code to make sure that it works as expected."
      ],
      "metadata": {
        "id": "OjVR5n4-PgkU"
      }
    },
    {
      "cell_type": "markdown",
      "source": [
        "### How to avoid common code generation pitfalls\n",
        "\n",
        "Here are some common code generation pitfalls to avoid:\n",
        "\n",
        "* Using ambiguous or unclear prompts. The more specific you can be in your prompts, the better the model will be able to understand your intent and generate the desired code.\n",
        "* Using too high of a temperature. A higher temperature can lead to less accurate and more creative output. It is important to choose the right temperature for the task you are trying to perform.\n",
        "* Not reviewing the generated code carefully. The generated code is not always perfect. It is important to review the generated code carefully and make any necessary changes.\n"
      ],
      "metadata": {
        "id": "UxEG_Ui8PnE_"
      }
    }
  ],
  "metadata": {
    "colab": {
      "toc_visible": true,
      "provenance": []
    },
    "environment": {
      "kernel": "python3",
      "name": "tf2-gpu.2-11.m108",
      "type": "gcloud",
      "uri": "gcr.io/deeplearning-platform-release/tf2-gpu.2-11:m108"
    },
    "kernelspec": {
      "display_name": "Python 3 (ipykernel)",
      "language": "python",
      "name": "python3"
    },
    "language_info": {
      "codemirror_mode": {
        "name": "ipython",
        "version": 3
      },
      "file_extension": ".py",
      "mimetype": "text/x-python",
      "name": "python",
      "nbconvert_exporter": "python",
      "pygments_lexer": "ipython3",
      "version": "3.10.10"
    }
  },
  "nbformat": 4,
  "nbformat_minor": 0
}